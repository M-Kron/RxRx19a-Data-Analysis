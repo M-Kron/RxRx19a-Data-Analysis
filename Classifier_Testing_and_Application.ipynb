{
 "cells": [
  {
   "cell_type": "code",
   "execution_count": 1,
   "metadata": {},
   "outputs": [
    {
     "name": "stdout",
     "output_type": "stream",
     "text": [
      "C:\\Users\\Milo\n"
     ]
    }
   ],
   "source": [
    "cd .."
   ]
  },
  {
   "cell_type": "code",
   "execution_count": 2,
   "metadata": {},
   "outputs": [
    {
     "name": "stdout",
     "output_type": "stream",
     "text": [
      "C:\\Users\\Milo\\desktop\n"
     ]
    }
   ],
   "source": [
    "cd desktop"
   ]
  },
  {
   "cell_type": "code",
   "execution_count": 3,
   "metadata": {},
   "outputs": [],
   "source": [
    "import numpy as np\n",
    "import pandas as pd\n",
    "import pickle"
   ]
  },
  {
   "cell_type": "code",
   "execution_count": 4,
   "metadata": {},
   "outputs": [
    {
     "name": "stdout",
     "output_type": "stream",
     "text": [
      "C:\\Users\\Milo\\desktop\\RxRx19a_Classifiers\n"
     ]
    }
   ],
   "source": [
    "cd RxRx19a_Classifiers"
   ]
  },
  {
   "cell_type": "code",
   "execution_count": 5,
   "metadata": {},
   "outputs": [],
   "source": [
    "cmd = pickle.load(open('RxRx19a_classified_metadata.p', 'rb'))"
   ]
  },
  {
   "cell_type": "code",
   "execution_count": 6,
   "metadata": {},
   "outputs": [
    {
     "data": {
      "text/html": [
       "<div>\n",
       "<style scoped>\n",
       "    .dataframe tbody tr th:only-of-type {\n",
       "        vertical-align: middle;\n",
       "    }\n",
       "\n",
       "    .dataframe tbody tr th {\n",
       "        vertical-align: top;\n",
       "    }\n",
       "\n",
       "    .dataframe thead th {\n",
       "        text-align: right;\n",
       "    }\n",
       "</style>\n",
       "<table border=\"1\" class=\"dataframe\">\n",
       "  <thead>\n",
       "    <tr style=\"text-align: right;\">\n",
       "      <th></th>\n",
       "      <th>well_id</th>\n",
       "      <th>cell_type</th>\n",
       "      <th>experiment</th>\n",
       "      <th>plate</th>\n",
       "      <th>well</th>\n",
       "      <th>site</th>\n",
       "      <th>disease_condition</th>\n",
       "      <th>treatment</th>\n",
       "      <th>treatment_conc</th>\n",
       "      <th>SMILES</th>\n",
       "      <th>vero_1_classification</th>\n",
       "      <th>vero_2_classification</th>\n",
       "      <th>hrce_1_classification</th>\n",
       "      <th>hrce_2_classification</th>\n",
       "    </tr>\n",
       "    <tr>\n",
       "      <th>site_id</th>\n",
       "      <th></th>\n",
       "      <th></th>\n",
       "      <th></th>\n",
       "      <th></th>\n",
       "      <th></th>\n",
       "      <th></th>\n",
       "      <th></th>\n",
       "      <th></th>\n",
       "      <th></th>\n",
       "      <th></th>\n",
       "      <th></th>\n",
       "      <th></th>\n",
       "      <th></th>\n",
       "      <th></th>\n",
       "    </tr>\n",
       "  </thead>\n",
       "  <tbody>\n",
       "    <tr>\n",
       "      <th>HRCE-1_1_AA02_1</th>\n",
       "      <td>HRCE-1_1_AA02</td>\n",
       "      <td>HRCE</td>\n",
       "      <td>HRCE-1</td>\n",
       "      <td>1</td>\n",
       "      <td>AA02</td>\n",
       "      <td>1</td>\n",
       "      <td>Active SARS-CoV-2</td>\n",
       "      <td>Flubendazole</td>\n",
       "      <td>0.1</td>\n",
       "      <td>COC(=O)NC1=NC2=C(N1)C=C(C=C2)C(=O)C1=CC=C(F)C=...</td>\n",
       "      <td>-5.999348</td>\n",
       "      <td>-5.355074</td>\n",
       "      <td>-11.573555</td>\n",
       "      <td>-5.042294</td>\n",
       "    </tr>\n",
       "    <tr>\n",
       "      <th>HRCE-1_1_AA02_2</th>\n",
       "      <td>HRCE-1_1_AA02</td>\n",
       "      <td>HRCE</td>\n",
       "      <td>HRCE-1</td>\n",
       "      <td>1</td>\n",
       "      <td>AA02</td>\n",
       "      <td>2</td>\n",
       "      <td>Active SARS-CoV-2</td>\n",
       "      <td>Flubendazole</td>\n",
       "      <td>0.1</td>\n",
       "      <td>COC(=O)NC1=NC2=C(N1)C=C(C=C2)C(=O)C1=CC=C(F)C=...</td>\n",
       "      <td>-6.120164</td>\n",
       "      <td>-4.947076</td>\n",
       "      <td>-12.134503</td>\n",
       "      <td>-2.888548</td>\n",
       "    </tr>\n",
       "    <tr>\n",
       "      <th>HRCE-1_1_AA02_3</th>\n",
       "      <td>HRCE-1_1_AA02</td>\n",
       "      <td>HRCE</td>\n",
       "      <td>HRCE-1</td>\n",
       "      <td>1</td>\n",
       "      <td>AA02</td>\n",
       "      <td>3</td>\n",
       "      <td>Active SARS-CoV-2</td>\n",
       "      <td>Flubendazole</td>\n",
       "      <td>0.1</td>\n",
       "      <td>COC(=O)NC1=NC2=C(N1)C=C(C=C2)C(=O)C1=CC=C(F)C=...</td>\n",
       "      <td>-6.588516</td>\n",
       "      <td>-4.601345</td>\n",
       "      <td>-6.383106</td>\n",
       "      <td>-3.218826</td>\n",
       "    </tr>\n",
       "    <tr>\n",
       "      <th>HRCE-1_1_AA02_4</th>\n",
       "      <td>HRCE-1_1_AA02</td>\n",
       "      <td>HRCE</td>\n",
       "      <td>HRCE-1</td>\n",
       "      <td>1</td>\n",
       "      <td>AA02</td>\n",
       "      <td>4</td>\n",
       "      <td>Active SARS-CoV-2</td>\n",
       "      <td>Flubendazole</td>\n",
       "      <td>0.1</td>\n",
       "      <td>COC(=O)NC1=NC2=C(N1)C=C(C=C2)C(=O)C1=CC=C(F)C=...</td>\n",
       "      <td>-6.619923</td>\n",
       "      <td>-6.516193</td>\n",
       "      <td>-9.312073</td>\n",
       "      <td>-3.422482</td>\n",
       "    </tr>\n",
       "    <tr>\n",
       "      <th>HRCE-1_1_AA03_1</th>\n",
       "      <td>HRCE-1_1_AA03</td>\n",
       "      <td>HRCE</td>\n",
       "      <td>HRCE-1</td>\n",
       "      <td>1</td>\n",
       "      <td>AA03</td>\n",
       "      <td>1</td>\n",
       "      <td>Active SARS-CoV-2</td>\n",
       "      <td>acetylcysteine</td>\n",
       "      <td>1.0</td>\n",
       "      <td>CC(=O)N[C@H](CS)C(O)=O |a:4,r|</td>\n",
       "      <td>-6.791273</td>\n",
       "      <td>-7.134920</td>\n",
       "      <td>-10.971833</td>\n",
       "      <td>-0.649453</td>\n",
       "    </tr>\n",
       "    <tr>\n",
       "      <th>...</th>\n",
       "      <td>...</td>\n",
       "      <td>...</td>\n",
       "      <td>...</td>\n",
       "      <td>...</td>\n",
       "      <td>...</td>\n",
       "      <td>...</td>\n",
       "      <td>...</td>\n",
       "      <td>...</td>\n",
       "      <td>...</td>\n",
       "      <td>...</td>\n",
       "      <td>...</td>\n",
       "      <td>...</td>\n",
       "      <td>...</td>\n",
       "      <td>...</td>\n",
       "    </tr>\n",
       "    <tr>\n",
       "      <th>VERO-2_2_Z46_4</th>\n",
       "      <td>VERO-2_2_Z46</td>\n",
       "      <td>VERO</td>\n",
       "      <td>VERO-2</td>\n",
       "      <td>2</td>\n",
       "      <td>Z46</td>\n",
       "      <td>4</td>\n",
       "      <td>Active SARS-CoV-2</td>\n",
       "      <td>Lopinavir</td>\n",
       "      <td>1.0</td>\n",
       "      <td>CC(C)[C@H](N1CCCNC1=O)C(=O)N[C@H](C[C@H](O)[C@...</td>\n",
       "      <td>-12.056694</td>\n",
       "      <td>-12.709741</td>\n",
       "      <td>-21.612921</td>\n",
       "      <td>-12.628800</td>\n",
       "    </tr>\n",
       "    <tr>\n",
       "      <th>VERO-2_2_Z47_1</th>\n",
       "      <td>VERO-2_2_Z47</td>\n",
       "      <td>VERO</td>\n",
       "      <td>VERO-2</td>\n",
       "      <td>2</td>\n",
       "      <td>Z47</td>\n",
       "      <td>1</td>\n",
       "      <td>Active SARS-CoV-2</td>\n",
       "      <td>NaN</td>\n",
       "      <td>NaN</td>\n",
       "      <td>NaN</td>\n",
       "      <td>-11.540191</td>\n",
       "      <td>-11.981070</td>\n",
       "      <td>-14.820165</td>\n",
       "      <td>-7.731190</td>\n",
       "    </tr>\n",
       "    <tr>\n",
       "      <th>VERO-2_2_Z47_2</th>\n",
       "      <td>VERO-2_2_Z47</td>\n",
       "      <td>VERO</td>\n",
       "      <td>VERO-2</td>\n",
       "      <td>2</td>\n",
       "      <td>Z47</td>\n",
       "      <td>2</td>\n",
       "      <td>Active SARS-CoV-2</td>\n",
       "      <td>NaN</td>\n",
       "      <td>NaN</td>\n",
       "      <td>NaN</td>\n",
       "      <td>-15.166028</td>\n",
       "      <td>-11.570478</td>\n",
       "      <td>-23.160319</td>\n",
       "      <td>-15.303752</td>\n",
       "    </tr>\n",
       "    <tr>\n",
       "      <th>VERO-2_2_Z47_3</th>\n",
       "      <td>VERO-2_2_Z47</td>\n",
       "      <td>VERO</td>\n",
       "      <td>VERO-2</td>\n",
       "      <td>2</td>\n",
       "      <td>Z47</td>\n",
       "      <td>3</td>\n",
       "      <td>Active SARS-CoV-2</td>\n",
       "      <td>NaN</td>\n",
       "      <td>NaN</td>\n",
       "      <td>NaN</td>\n",
       "      <td>-10.725308</td>\n",
       "      <td>-11.238167</td>\n",
       "      <td>-20.052702</td>\n",
       "      <td>-7.824815</td>\n",
       "    </tr>\n",
       "    <tr>\n",
       "      <th>VERO-2_2_Z47_4</th>\n",
       "      <td>VERO-2_2_Z47</td>\n",
       "      <td>VERO</td>\n",
       "      <td>VERO-2</td>\n",
       "      <td>2</td>\n",
       "      <td>Z47</td>\n",
       "      <td>4</td>\n",
       "      <td>Active SARS-CoV-2</td>\n",
       "      <td>NaN</td>\n",
       "      <td>NaN</td>\n",
       "      <td>NaN</td>\n",
       "      <td>-17.180456</td>\n",
       "      <td>-11.780373</td>\n",
       "      <td>-28.874303</td>\n",
       "      <td>-16.921690</td>\n",
       "    </tr>\n",
       "  </tbody>\n",
       "</table>\n",
       "<p>305520 rows × 14 columns</p>\n",
       "</div>"
      ],
      "text/plain": [
       "                       well_id cell_type experiment  plate  well  site  \\\n",
       "site_id                                                                  \n",
       "HRCE-1_1_AA02_1  HRCE-1_1_AA02      HRCE     HRCE-1      1  AA02     1   \n",
       "HRCE-1_1_AA02_2  HRCE-1_1_AA02      HRCE     HRCE-1      1  AA02     2   \n",
       "HRCE-1_1_AA02_3  HRCE-1_1_AA02      HRCE     HRCE-1      1  AA02     3   \n",
       "HRCE-1_1_AA02_4  HRCE-1_1_AA02      HRCE     HRCE-1      1  AA02     4   \n",
       "HRCE-1_1_AA03_1  HRCE-1_1_AA03      HRCE     HRCE-1      1  AA03     1   \n",
       "...                        ...       ...        ...    ...   ...   ...   \n",
       "VERO-2_2_Z46_4    VERO-2_2_Z46      VERO     VERO-2      2   Z46     4   \n",
       "VERO-2_2_Z47_1    VERO-2_2_Z47      VERO     VERO-2      2   Z47     1   \n",
       "VERO-2_2_Z47_2    VERO-2_2_Z47      VERO     VERO-2      2   Z47     2   \n",
       "VERO-2_2_Z47_3    VERO-2_2_Z47      VERO     VERO-2      2   Z47     3   \n",
       "VERO-2_2_Z47_4    VERO-2_2_Z47      VERO     VERO-2      2   Z47     4   \n",
       "\n",
       "                 disease_condition       treatment  treatment_conc  \\\n",
       "site_id                                                              \n",
       "HRCE-1_1_AA02_1  Active SARS-CoV-2    Flubendazole             0.1   \n",
       "HRCE-1_1_AA02_2  Active SARS-CoV-2    Flubendazole             0.1   \n",
       "HRCE-1_1_AA02_3  Active SARS-CoV-2    Flubendazole             0.1   \n",
       "HRCE-1_1_AA02_4  Active SARS-CoV-2    Flubendazole             0.1   \n",
       "HRCE-1_1_AA03_1  Active SARS-CoV-2  acetylcysteine             1.0   \n",
       "...                            ...             ...             ...   \n",
       "VERO-2_2_Z46_4   Active SARS-CoV-2       Lopinavir             1.0   \n",
       "VERO-2_2_Z47_1   Active SARS-CoV-2             NaN             NaN   \n",
       "VERO-2_2_Z47_2   Active SARS-CoV-2             NaN             NaN   \n",
       "VERO-2_2_Z47_3   Active SARS-CoV-2             NaN             NaN   \n",
       "VERO-2_2_Z47_4   Active SARS-CoV-2             NaN             NaN   \n",
       "\n",
       "                                                            SMILES  \\\n",
       "site_id                                                              \n",
       "HRCE-1_1_AA02_1  COC(=O)NC1=NC2=C(N1)C=C(C=C2)C(=O)C1=CC=C(F)C=...   \n",
       "HRCE-1_1_AA02_2  COC(=O)NC1=NC2=C(N1)C=C(C=C2)C(=O)C1=CC=C(F)C=...   \n",
       "HRCE-1_1_AA02_3  COC(=O)NC1=NC2=C(N1)C=C(C=C2)C(=O)C1=CC=C(F)C=...   \n",
       "HRCE-1_1_AA02_4  COC(=O)NC1=NC2=C(N1)C=C(C=C2)C(=O)C1=CC=C(F)C=...   \n",
       "HRCE-1_1_AA03_1                     CC(=O)N[C@H](CS)C(O)=O |a:4,r|   \n",
       "...                                                            ...   \n",
       "VERO-2_2_Z46_4   CC(C)[C@H](N1CCCNC1=O)C(=O)N[C@H](C[C@H](O)[C@...   \n",
       "VERO-2_2_Z47_1                                                 NaN   \n",
       "VERO-2_2_Z47_2                                                 NaN   \n",
       "VERO-2_2_Z47_3                                                 NaN   \n",
       "VERO-2_2_Z47_4                                                 NaN   \n",
       "\n",
       "                 vero_1_classification  vero_2_classification  \\\n",
       "site_id                                                         \n",
       "HRCE-1_1_AA02_1              -5.999348              -5.355074   \n",
       "HRCE-1_1_AA02_2              -6.120164              -4.947076   \n",
       "HRCE-1_1_AA02_3              -6.588516              -4.601345   \n",
       "HRCE-1_1_AA02_4              -6.619923              -6.516193   \n",
       "HRCE-1_1_AA03_1              -6.791273              -7.134920   \n",
       "...                                ...                    ...   \n",
       "VERO-2_2_Z46_4              -12.056694             -12.709741   \n",
       "VERO-2_2_Z47_1              -11.540191             -11.981070   \n",
       "VERO-2_2_Z47_2              -15.166028             -11.570478   \n",
       "VERO-2_2_Z47_3              -10.725308             -11.238167   \n",
       "VERO-2_2_Z47_4              -17.180456             -11.780373   \n",
       "\n",
       "                 hrce_1_classification  hrce_2_classification  \n",
       "site_id                                                        \n",
       "HRCE-1_1_AA02_1             -11.573555              -5.042294  \n",
       "HRCE-1_1_AA02_2             -12.134503              -2.888548  \n",
       "HRCE-1_1_AA02_3              -6.383106              -3.218826  \n",
       "HRCE-1_1_AA02_4              -9.312073              -3.422482  \n",
       "HRCE-1_1_AA03_1             -10.971833              -0.649453  \n",
       "...                                ...                    ...  \n",
       "VERO-2_2_Z46_4              -21.612921             -12.628800  \n",
       "VERO-2_2_Z47_1              -14.820165              -7.731190  \n",
       "VERO-2_2_Z47_2              -23.160319             -15.303752  \n",
       "VERO-2_2_Z47_3              -20.052702              -7.824815  \n",
       "VERO-2_2_Z47_4              -28.874303             -16.921690  \n",
       "\n",
       "[305520 rows x 14 columns]"
      ]
     },
     "execution_count": 6,
     "metadata": {},
     "output_type": "execute_result"
    }
   ],
   "source": [
    "cmd"
   ]
  },
  {
   "cell_type": "code",
   "execution_count": 7,
   "metadata": {},
   "outputs": [],
   "source": [
    "vero_1 = cmd[cmd.experiment == \"VERO-1\"]\n",
    "vero_2 = cmd[cmd.experiment == \"VERO-2\"]\n",
    "hrce_1 = cmd[cmd.experiment == \"HRCE-1\"]\n",
    "hrce_2 = cmd[cmd.experiment == \"HRCE-2\"]"
   ]
  },
  {
   "cell_type": "markdown",
   "metadata": {},
   "source": [
    "As expected, the classifiers relatively well on the data sets on which they were trained, giving high ratings to healthy cells and mostly low ratings to disseased cells (with some high ratings for what, we hope, are successsful treatments)"
   ]
  },
  {
   "cell_type": "code",
   "execution_count": 8,
   "metadata": {},
   "outputs": [],
   "source": [
    "import matplotlib.pyplot as plt "
   ]
  },
  {
   "cell_type": "code",
   "execution_count": 9,
   "metadata": {},
   "outputs": [
    {
     "data": {
      "text/plain": [
       "<AxesSubplot:title={'center':'hrce_2_classification'}, xlabel='disease_condition'>"
      ]
     },
     "execution_count": 9,
     "metadata": {},
     "output_type": "execute_result"
    },
    {
     "data": {
      "image/png": "[encoded data removed]",
      "text/plain": [
       "<Figure size 432x288 with 1 Axes>"
      ]
     },
     "metadata": {
      "needs_background": "light"
     },
     "output_type": "display_data"
    },
    {
     "data": {
      "text/plain": [
       "<Figure size 432x288 with 0 Axes>"
      ]
     },
     "metadata": {},
     "output_type": "display_data"
    },
    {
     "data": {
      "image/png": "[encoded data removed]",
      "text/plain": [
       "<Figure size 432x288 with 1 Axes>"
      ]
     },
     "metadata": {
      "needs_background": "light"
     },
     "output_type": "display_data"
    },
    {
     "data": {
      "text/plain": [
       "<Figure size 432x288 with 0 Axes>"
      ]
     },
     "metadata": {},
     "output_type": "display_data"
    },
    {
     "data": {
      "image/png": "[encoded data removed]",
      "text/plain": [
       "<Figure size 432x288 with 1 Axes>"
      ]
     },
     "metadata": {
      "needs_background": "light"
     },
     "output_type": "display_data"
    },
    {
     "data": {
      "text/plain": [
       "<Figure size 432x288 with 0 Axes>"
      ]
     },
     "metadata": {},
     "output_type": "display_data"
    },
    {
     "data": {
      "image/png": "[encoded data removed]",
      "text/plain": [
       "<Figure size 432x288 with 1 Axes>"
      ]
     },
     "metadata": {
      "needs_background": "light"
     },
     "output_type": "display_data"
    }
   ],
   "source": [
    "vero_1.boxplot(by = 'disease_condition', column = ['vero_1_classification'], grid = False)\n",
    "plt.figure()\n",
    "vero_2.boxplot(by = 'disease_condition', column = ['vero_2_classification'], grid = False)\n",
    "plt.figure()\n",
    "hrce_1.boxplot(by = 'disease_condition', column = ['hrce_1_classification'], grid = False)\n",
    "plt.figure()\n",
    "hrce_2.boxplot(by = 'disease_condition', column = ['hrce_2_classification'], grid = False)"
   ]
  },
  {
   "cell_type": "markdown",
   "metadata": {},
   "source": [
    "likewise, the classifiers perform relatively well across experiments, but within the correct cell type..."
   ]
  },
  {
   "cell_type": "code",
   "execution_count": 10,
   "metadata": {},
   "outputs": [
    {
     "data": {
      "text/plain": [
       "<AxesSubplot:title={'center':'hrce_1_classification'}, xlabel='disease_condition'>"
      ]
     },
     "execution_count": 10,
     "metadata": {},
     "output_type": "execute_result"
    },
    {
     "data": {
      "image/png": "[encoded data removed]",
      "text/plain": [
       "<Figure size 432x288 with 1 Axes>"
      ]
     },
     "metadata": {
      "needs_background": "light"
     },
     "output_type": "display_data"
    },
    {
     "data": {
      "text/plain": [
       "<Figure size 432x288 with 0 Axes>"
      ]
     },
     "metadata": {},
     "output_type": "display_data"
    },
    {
     "data": {
      "image/png": "[encoded data removed]",
      "text/plain": [
       "<Figure size 432x288 with 1 Axes>"
      ]
     },
     "metadata": {
      "needs_background": "light"
     },
     "output_type": "display_data"
    },
    {
     "data": {
      "text/plain": [
       "<Figure size 432x288 with 0 Axes>"
      ]
     },
     "metadata": {},
     "output_type": "display_data"
    },
    {
     "data": {
      "image/png": "[encoded data removed]",
      "text/plain": [
       "<Figure size 432x288 with 1 Axes>"
      ]
     },
     "metadata": {
      "needs_background": "light"
     },
     "output_type": "display_data"
    },
    {
     "data": {
      "text/plain": [
       "<Figure size 432x288 with 0 Axes>"
      ]
     },
     "metadata": {},
     "output_type": "display_data"
    },
    {
     "data": {
      "image/png": "[encoded data removed]",
      "text/plain": [
       "<Figure size 432x288 with 1 Axes>"
      ]
     },
     "metadata": {
      "needs_background": "light"
     },
     "output_type": "display_data"
    }
   ],
   "source": [
    "vero_2.boxplot(by = 'disease_condition', column = ['vero_1_classification'], grid = False)\n",
    "plt.figure()\n",
    "vero_1.boxplot(by = 'disease_condition', column = ['vero_2_classification'], grid = False)\n",
    "plt.figure()\n",
    "hrce_2.boxplot(by = 'disease_condition', column = ['hrce_1_classification'], grid = False)\n",
    "plt.figure()\n",
    "hrce_1.boxplot(by = 'disease_condition', column = ['hrce_1_classification'], grid = False)"
   ]
  },
  {
   "cell_type": "markdown",
   "metadata": {},
   "source": [
    "...but perform poorly across cell type"
   ]
  },
  {
   "cell_type": "code",
   "execution_count": 11,
   "metadata": {},
   "outputs": [
    {
     "data": {
      "text/plain": [
       "<AxesSubplot:title={'center':'hrce_1_classification'}, xlabel='disease_condition'>"
      ]
     },
     "execution_count": 11,
     "metadata": {},
     "output_type": "execute_result"
    },
    {
     "data": {
      "image/png": "[encoded data removed]",
      "text/plain": [
       "<Figure size 432x288 with 1 Axes>"
      ]
     },
     "metadata": {
      "needs_background": "light"
     },
     "output_type": "display_data"
    },
    {
     "data": {
      "text/plain": [
       "<Figure size 432x288 with 0 Axes>"
      ]
     },
     "metadata": {},
     "output_type": "display_data"
    },
    {
     "data": {
      "image/png": "[encoded data removed]",
      "text/plain": [
       "<Figure size 432x288 with 1 Axes>"
      ]
     },
     "metadata": {
      "needs_background": "light"
     },
     "output_type": "display_data"
    },
    {
     "data": {
      "text/plain": [
       "<Figure size 432x288 with 0 Axes>"
      ]
     },
     "metadata": {},
     "output_type": "display_data"
    },
    {
     "data": {
      "image/png": "[encoded data removed]",
      "text/plain": [
       "<Figure size 432x288 with 1 Axes>"
      ]
     },
     "metadata": {
      "needs_background": "light"
     },
     "output_type": "display_data"
    },
    {
     "data": {
      "text/plain": [
       "<Figure size 432x288 with 0 Axes>"
      ]
     },
     "metadata": {},
     "output_type": "display_data"
    },
    {
     "data": {
      "image/png": "[encoded data removed]",
      "text/plain": [
       "<Figure size 432x288 with 1 Axes>"
      ]
     },
     "metadata": {
      "needs_background": "light"
     },
     "output_type": "display_data"
    }
   ],
   "source": [
    "hrce_1.boxplot(by = 'disease_condition', column = ['vero_1_classification'], grid = False)\n",
    "plt.figure()\n",
    "hrce_2.boxplot(by = 'disease_condition', column = ['vero_2_classification'], grid = False)\n",
    "plt.figure()\n",
    "vero_1.boxplot(by = 'disease_condition', column = ['hrce_1_classification'], grid = False)\n",
    "plt.figure()\n",
    "vero_2.boxplot(by = 'disease_condition', column = ['hrce_1_classification'], grid = False)"
   ]
  },
  {
   "cell_type": "markdown",
   "metadata": {},
   "source": [
    "Each well in each experiment correponds to 4 sites, with their own emmbeddings. As these embeddings derive from images from the same well and should--in theory--be close to identtical, we may use the range of the classification values within each well to get a sense of the noise our data. At the same time, we will also get a mean classification value for each well to smooth out that noise going forward"
   ]
  },
  {
   "cell_type": "code",
   "execution_count": 12,
   "metadata": {},
   "outputs": [],
   "source": [
    "vero_1_scores = vero_1.groupby(\"well_id\").vero_1_classification.agg([\"mean\", max, min])\n",
    "vero_2_scores = vero_2.groupby(\"well_id\").vero_2_classification.agg([\"mean\", max, min])\n",
    "hrce_1_scores = hrce_1.groupby(\"well_id\").hrce_1_classification.agg([\"mean\", max, min])\n",
    "hrce_2_scores = hrce_2.groupby(\"well_id\").hrce_2_classification.agg([\"mean\", max, min])"
   ]
  },
  {
   "cell_type": "code",
   "execution_count": 13,
   "metadata": {},
   "outputs": [],
   "source": [
    "scores = pd.concat([vero_1_scores, vero_2_scores, hrce_1_scores, hrce_2_scores], axis = 0)"
   ]
  },
  {
   "cell_type": "code",
   "execution_count": 14,
   "metadata": {},
   "outputs": [
    {
     "data": {
      "text/html": [
       "<div>\n",
       "<style scoped>\n",
       "    .dataframe tbody tr th:only-of-type {\n",
       "        vertical-align: middle;\n",
       "    }\n",
       "\n",
       "    .dataframe tbody tr th {\n",
       "        vertical-align: top;\n",
       "    }\n",
       "\n",
       "    .dataframe thead th {\n",
       "        text-align: right;\n",
       "    }\n",
       "</style>\n",
       "<table border=\"1\" class=\"dataframe\">\n",
       "  <thead>\n",
       "    <tr style=\"text-align: right;\">\n",
       "      <th></th>\n",
       "      <th>mean</th>\n",
       "      <th>max</th>\n",
       "      <th>min</th>\n",
       "    </tr>\n",
       "    <tr>\n",
       "      <th>well_id</th>\n",
       "      <th></th>\n",
       "      <th></th>\n",
       "      <th></th>\n",
       "    </tr>\n",
       "  </thead>\n",
       "  <tbody>\n",
       "    <tr>\n",
       "      <th>VERO-1_1_AA02</th>\n",
       "      <td>-11.703243</td>\n",
       "      <td>-7.876096</td>\n",
       "      <td>-14.448197</td>\n",
       "    </tr>\n",
       "    <tr>\n",
       "      <th>VERO-1_1_AA03</th>\n",
       "      <td>-13.652229</td>\n",
       "      <td>-12.748940</td>\n",
       "      <td>-14.190113</td>\n",
       "    </tr>\n",
       "    <tr>\n",
       "      <th>VERO-1_1_AA04</th>\n",
       "      <td>-8.729658</td>\n",
       "      <td>-7.712849</td>\n",
       "      <td>-9.225450</td>\n",
       "    </tr>\n",
       "    <tr>\n",
       "      <th>VERO-1_1_AA05</th>\n",
       "      <td>-13.187105</td>\n",
       "      <td>-11.641731</td>\n",
       "      <td>-14.387903</td>\n",
       "    </tr>\n",
       "    <tr>\n",
       "      <th>VERO-1_1_AA06</th>\n",
       "      <td>-8.085661</td>\n",
       "      <td>-6.092738</td>\n",
       "      <td>-9.903962</td>\n",
       "    </tr>\n",
       "    <tr>\n",
       "      <th>...</th>\n",
       "      <td>...</td>\n",
       "      <td>...</td>\n",
       "      <td>...</td>\n",
       "    </tr>\n",
       "    <tr>\n",
       "      <th>HRCE-2_9_Z43</th>\n",
       "      <td>-9.526647</td>\n",
       "      <td>-8.318047</td>\n",
       "      <td>-11.705406</td>\n",
       "    </tr>\n",
       "    <tr>\n",
       "      <th>HRCE-2_9_Z44</th>\n",
       "      <td>-5.997982</td>\n",
       "      <td>-2.569356</td>\n",
       "      <td>-8.816089</td>\n",
       "    </tr>\n",
       "    <tr>\n",
       "      <th>HRCE-2_9_Z45</th>\n",
       "      <td>-8.332233</td>\n",
       "      <td>-4.434547</td>\n",
       "      <td>-11.881827</td>\n",
       "    </tr>\n",
       "    <tr>\n",
       "      <th>HRCE-2_9_Z46</th>\n",
       "      <td>-10.082199</td>\n",
       "      <td>-5.966057</td>\n",
       "      <td>-12.715271</td>\n",
       "    </tr>\n",
       "    <tr>\n",
       "      <th>HRCE-2_9_Z47</th>\n",
       "      <td>-12.115954</td>\n",
       "      <td>-11.105264</td>\n",
       "      <td>-13.992345</td>\n",
       "    </tr>\n",
       "  </tbody>\n",
       "</table>\n",
       "<p>76380 rows × 3 columns</p>\n",
       "</div>"
      ],
      "text/plain": [
       "                    mean        max        min\n",
       "well_id                                       \n",
       "VERO-1_1_AA02 -11.703243  -7.876096 -14.448197\n",
       "VERO-1_1_AA03 -13.652229 -12.748940 -14.190113\n",
       "VERO-1_1_AA04  -8.729658  -7.712849  -9.225450\n",
       "VERO-1_1_AA05 -13.187105 -11.641731 -14.387903\n",
       "VERO-1_1_AA06  -8.085661  -6.092738  -9.903962\n",
       "...                  ...        ...        ...\n",
       "HRCE-2_9_Z43   -9.526647  -8.318047 -11.705406\n",
       "HRCE-2_9_Z44   -5.997982  -2.569356  -8.816089\n",
       "HRCE-2_9_Z45   -8.332233  -4.434547 -11.881827\n",
       "HRCE-2_9_Z46  -10.082199  -5.966057 -12.715271\n",
       "HRCE-2_9_Z47  -12.115954 -11.105264 -13.992345\n",
       "\n",
       "[76380 rows x 3 columns]"
      ]
     },
     "execution_count": 14,
     "metadata": {},
     "output_type": "execute_result"
    }
   ],
   "source": [
    "scores"
   ]
  },
  {
   "cell_type": "code",
   "execution_count": 15,
   "metadata": {},
   "outputs": [],
   "source": [
    "cmd[\"variability\"] = cmd.apply(lambda row: scores.loc[row.well_id, \"max\"] - scores.loc[row.well_id, \"min\"], axis = 1)"
   ]
  },
  {
   "cell_type": "code",
   "execution_count": 16,
   "metadata": {},
   "outputs": [],
   "source": [
    "cmd[\"well_classification_average\"] = cmd.apply(lambda row: scores.loc[row.well_id, \"mean\"], axis = 1)"
   ]
  },
  {
   "cell_type": "code",
   "execution_count": 17,
   "metadata": {},
   "outputs": [
    {
     "data": {
      "text/html": [
       "<div>\n",
       "<style scoped>\n",
       "    .dataframe tbody tr th:only-of-type {\n",
       "        vertical-align: middle;\n",
       "    }\n",
       "\n",
       "    .dataframe tbody tr th {\n",
       "        vertical-align: top;\n",
       "    }\n",
       "\n",
       "    .dataframe thead th {\n",
       "        text-align: right;\n",
       "    }\n",
       "</style>\n",
       "<table border=\"1\" class=\"dataframe\">\n",
       "  <thead>\n",
       "    <tr style=\"text-align: right;\">\n",
       "      <th></th>\n",
       "      <th>well_id</th>\n",
       "      <th>cell_type</th>\n",
       "      <th>experiment</th>\n",
       "      <th>plate</th>\n",
       "      <th>well</th>\n",
       "      <th>site</th>\n",
       "      <th>disease_condition</th>\n",
       "      <th>treatment</th>\n",
       "      <th>treatment_conc</th>\n",
       "      <th>SMILES</th>\n",
       "      <th>vero_1_classification</th>\n",
       "      <th>vero_2_classification</th>\n",
       "      <th>hrce_1_classification</th>\n",
       "      <th>hrce_2_classification</th>\n",
       "      <th>variability</th>\n",
       "      <th>well_classification_average</th>\n",
       "    </tr>\n",
       "    <tr>\n",
       "      <th>site_id</th>\n",
       "      <th></th>\n",
       "      <th></th>\n",
       "      <th></th>\n",
       "      <th></th>\n",
       "      <th></th>\n",
       "      <th></th>\n",
       "      <th></th>\n",
       "      <th></th>\n",
       "      <th></th>\n",
       "      <th></th>\n",
       "      <th></th>\n",
       "      <th></th>\n",
       "      <th></th>\n",
       "      <th></th>\n",
       "      <th></th>\n",
       "      <th></th>\n",
       "    </tr>\n",
       "  </thead>\n",
       "  <tbody>\n",
       "    <tr>\n",
       "      <th>HRCE-1_1_AA02_1</th>\n",
       "      <td>HRCE-1_1_AA02</td>\n",
       "      <td>HRCE</td>\n",
       "      <td>HRCE-1</td>\n",
       "      <td>1</td>\n",
       "      <td>AA02</td>\n",
       "      <td>1</td>\n",
       "      <td>Active SARS-CoV-2</td>\n",
       "      <td>Flubendazole</td>\n",
       "      <td>0.1</td>\n",
       "      <td>COC(=O)NC1=NC2=C(N1)C=C(C=C2)C(=O)C1=CC=C(F)C=...</td>\n",
       "      <td>-5.999348</td>\n",
       "      <td>-5.355074</td>\n",
       "      <td>-11.573555</td>\n",
       "      <td>-5.042294</td>\n",
       "      <td>5.751396</td>\n",
       "      <td>-9.850809</td>\n",
       "    </tr>\n",
       "    <tr>\n",
       "      <th>HRCE-1_1_AA02_2</th>\n",
       "      <td>HRCE-1_1_AA02</td>\n",
       "      <td>HRCE</td>\n",
       "      <td>HRCE-1</td>\n",
       "      <td>1</td>\n",
       "      <td>AA02</td>\n",
       "      <td>2</td>\n",
       "      <td>Active SARS-CoV-2</td>\n",
       "      <td>Flubendazole</td>\n",
       "      <td>0.1</td>\n",
       "      <td>COC(=O)NC1=NC2=C(N1)C=C(C=C2)C(=O)C1=CC=C(F)C=...</td>\n",
       "      <td>-6.120164</td>\n",
       "      <td>-4.947076</td>\n",
       "      <td>-12.134503</td>\n",
       "      <td>-2.888548</td>\n",
       "      <td>5.751396</td>\n",
       "      <td>-9.850809</td>\n",
       "    </tr>\n",
       "    <tr>\n",
       "      <th>HRCE-1_1_AA02_3</th>\n",
       "      <td>HRCE-1_1_AA02</td>\n",
       "      <td>HRCE</td>\n",
       "      <td>HRCE-1</td>\n",
       "      <td>1</td>\n",
       "      <td>AA02</td>\n",
       "      <td>3</td>\n",
       "      <td>Active SARS-CoV-2</td>\n",
       "      <td>Flubendazole</td>\n",
       "      <td>0.1</td>\n",
       "      <td>COC(=O)NC1=NC2=C(N1)C=C(C=C2)C(=O)C1=CC=C(F)C=...</td>\n",
       "      <td>-6.588516</td>\n",
       "      <td>-4.601345</td>\n",
       "      <td>-6.383106</td>\n",
       "      <td>-3.218826</td>\n",
       "      <td>5.751396</td>\n",
       "      <td>-9.850809</td>\n",
       "    </tr>\n",
       "    <tr>\n",
       "      <th>HRCE-1_1_AA02_4</th>\n",
       "      <td>HRCE-1_1_AA02</td>\n",
       "      <td>HRCE</td>\n",
       "      <td>HRCE-1</td>\n",
       "      <td>1</td>\n",
       "      <td>AA02</td>\n",
       "      <td>4</td>\n",
       "      <td>Active SARS-CoV-2</td>\n",
       "      <td>Flubendazole</td>\n",
       "      <td>0.1</td>\n",
       "      <td>COC(=O)NC1=NC2=C(N1)C=C(C=C2)C(=O)C1=CC=C(F)C=...</td>\n",
       "      <td>-6.619923</td>\n",
       "      <td>-6.516193</td>\n",
       "      <td>-9.312073</td>\n",
       "      <td>-3.422482</td>\n",
       "      <td>5.751396</td>\n",
       "      <td>-9.850809</td>\n",
       "    </tr>\n",
       "    <tr>\n",
       "      <th>HRCE-1_1_AA03_1</th>\n",
       "      <td>HRCE-1_1_AA03</td>\n",
       "      <td>HRCE</td>\n",
       "      <td>HRCE-1</td>\n",
       "      <td>1</td>\n",
       "      <td>AA03</td>\n",
       "      <td>1</td>\n",
       "      <td>Active SARS-CoV-2</td>\n",
       "      <td>acetylcysteine</td>\n",
       "      <td>1.0</td>\n",
       "      <td>CC(=O)N[C@H](CS)C(O)=O |a:4,r|</td>\n",
       "      <td>-6.791273</td>\n",
       "      <td>-7.134920</td>\n",
       "      <td>-10.971833</td>\n",
       "      <td>-0.649453</td>\n",
       "      <td>6.170646</td>\n",
       "      <td>-11.144167</td>\n",
       "    </tr>\n",
       "    <tr>\n",
       "      <th>...</th>\n",
       "      <td>...</td>\n",
       "      <td>...</td>\n",
       "      <td>...</td>\n",
       "      <td>...</td>\n",
       "      <td>...</td>\n",
       "      <td>...</td>\n",
       "      <td>...</td>\n",
       "      <td>...</td>\n",
       "      <td>...</td>\n",
       "      <td>...</td>\n",
       "      <td>...</td>\n",
       "      <td>...</td>\n",
       "      <td>...</td>\n",
       "      <td>...</td>\n",
       "      <td>...</td>\n",
       "      <td>...</td>\n",
       "    </tr>\n",
       "    <tr>\n",
       "      <th>VERO-2_2_Z46_4</th>\n",
       "      <td>VERO-2_2_Z46</td>\n",
       "      <td>VERO</td>\n",
       "      <td>VERO-2</td>\n",
       "      <td>2</td>\n",
       "      <td>Z46</td>\n",
       "      <td>4</td>\n",
       "      <td>Active SARS-CoV-2</td>\n",
       "      <td>Lopinavir</td>\n",
       "      <td>1.0</td>\n",
       "      <td>CC(C)[C@H](N1CCCNC1=O)C(=O)N[C@H](C[C@H](O)[C@...</td>\n",
       "      <td>-12.056694</td>\n",
       "      <td>-12.709741</td>\n",
       "      <td>-21.612921</td>\n",
       "      <td>-12.628800</td>\n",
       "      <td>4.749392</td>\n",
       "      <td>-10.223600</td>\n",
       "    </tr>\n",
       "    <tr>\n",
       "      <th>VERO-2_2_Z47_1</th>\n",
       "      <td>VERO-2_2_Z47</td>\n",
       "      <td>VERO</td>\n",
       "      <td>VERO-2</td>\n",
       "      <td>2</td>\n",
       "      <td>Z47</td>\n",
       "      <td>1</td>\n",
       "      <td>Active SARS-CoV-2</td>\n",
       "      <td>NaN</td>\n",
       "      <td>NaN</td>\n",
       "      <td>NaN</td>\n",
       "      <td>-11.540191</td>\n",
       "      <td>-11.981070</td>\n",
       "      <td>-14.820165</td>\n",
       "      <td>-7.731190</td>\n",
       "      <td>0.742903</td>\n",
       "      <td>-11.642522</td>\n",
       "    </tr>\n",
       "    <tr>\n",
       "      <th>VERO-2_2_Z47_2</th>\n",
       "      <td>VERO-2_2_Z47</td>\n",
       "      <td>VERO</td>\n",
       "      <td>VERO-2</td>\n",
       "      <td>2</td>\n",
       "      <td>Z47</td>\n",
       "      <td>2</td>\n",
       "      <td>Active SARS-CoV-2</td>\n",
       "      <td>NaN</td>\n",
       "      <td>NaN</td>\n",
       "      <td>NaN</td>\n",
       "      <td>-15.166028</td>\n",
       "      <td>-11.570478</td>\n",
       "      <td>-23.160319</td>\n",
       "      <td>-15.303752</td>\n",
       "      <td>0.742903</td>\n",
       "      <td>-11.642522</td>\n",
       "    </tr>\n",
       "    <tr>\n",
       "      <th>VERO-2_2_Z47_3</th>\n",
       "      <td>VERO-2_2_Z47</td>\n",
       "      <td>VERO</td>\n",
       "      <td>VERO-2</td>\n",
       "      <td>2</td>\n",
       "      <td>Z47</td>\n",
       "      <td>3</td>\n",
       "      <td>Active SARS-CoV-2</td>\n",
       "      <td>NaN</td>\n",
       "      <td>NaN</td>\n",
       "      <td>NaN</td>\n",
       "      <td>-10.725308</td>\n",
       "      <td>-11.238167</td>\n",
       "      <td>-20.052702</td>\n",
       "      <td>-7.824815</td>\n",
       "      <td>0.742903</td>\n",
       "      <td>-11.642522</td>\n",
       "    </tr>\n",
       "    <tr>\n",
       "      <th>VERO-2_2_Z47_4</th>\n",
       "      <td>VERO-2_2_Z47</td>\n",
       "      <td>VERO</td>\n",
       "      <td>VERO-2</td>\n",
       "      <td>2</td>\n",
       "      <td>Z47</td>\n",
       "      <td>4</td>\n",
       "      <td>Active SARS-CoV-2</td>\n",
       "      <td>NaN</td>\n",
       "      <td>NaN</td>\n",
       "      <td>NaN</td>\n",
       "      <td>-17.180456</td>\n",
       "      <td>-11.780373</td>\n",
       "      <td>-28.874303</td>\n",
       "      <td>-16.921690</td>\n",
       "      <td>0.742903</td>\n",
       "      <td>-11.642522</td>\n",
       "    </tr>\n",
       "  </tbody>\n",
       "</table>\n",
       "<p>305520 rows × 16 columns</p>\n",
       "</div>"
      ],
      "text/plain": [
       "                       well_id cell_type experiment  plate  well  site  \\\n",
       "site_id                                                                  \n",
       "HRCE-1_1_AA02_1  HRCE-1_1_AA02      HRCE     HRCE-1      1  AA02     1   \n",
       "HRCE-1_1_AA02_2  HRCE-1_1_AA02      HRCE     HRCE-1      1  AA02     2   \n",
       "HRCE-1_1_AA02_3  HRCE-1_1_AA02      HRCE     HRCE-1      1  AA02     3   \n",
       "HRCE-1_1_AA02_4  HRCE-1_1_AA02      HRCE     HRCE-1      1  AA02     4   \n",
       "HRCE-1_1_AA03_1  HRCE-1_1_AA03      HRCE     HRCE-1      1  AA03     1   \n",
       "...                        ...       ...        ...    ...   ...   ...   \n",
       "VERO-2_2_Z46_4    VERO-2_2_Z46      VERO     VERO-2      2   Z46     4   \n",
       "VERO-2_2_Z47_1    VERO-2_2_Z47      VERO     VERO-2      2   Z47     1   \n",
       "VERO-2_2_Z47_2    VERO-2_2_Z47      VERO     VERO-2      2   Z47     2   \n",
       "VERO-2_2_Z47_3    VERO-2_2_Z47      VERO     VERO-2      2   Z47     3   \n",
       "VERO-2_2_Z47_4    VERO-2_2_Z47      VERO     VERO-2      2   Z47     4   \n",
       "\n",
       "                 disease_condition       treatment  treatment_conc  \\\n",
       "site_id                                                              \n",
       "HRCE-1_1_AA02_1  Active SARS-CoV-2    Flubendazole             0.1   \n",
       "HRCE-1_1_AA02_2  Active SARS-CoV-2    Flubendazole             0.1   \n",
       "HRCE-1_1_AA02_3  Active SARS-CoV-2    Flubendazole             0.1   \n",
       "HRCE-1_1_AA02_4  Active SARS-CoV-2    Flubendazole             0.1   \n",
       "HRCE-1_1_AA03_1  Active SARS-CoV-2  acetylcysteine             1.0   \n",
       "...                            ...             ...             ...   \n",
       "VERO-2_2_Z46_4   Active SARS-CoV-2       Lopinavir             1.0   \n",
       "VERO-2_2_Z47_1   Active SARS-CoV-2             NaN             NaN   \n",
       "VERO-2_2_Z47_2   Active SARS-CoV-2             NaN             NaN   \n",
       "VERO-2_2_Z47_3   Active SARS-CoV-2             NaN             NaN   \n",
       "VERO-2_2_Z47_4   Active SARS-CoV-2             NaN             NaN   \n",
       "\n",
       "                                                            SMILES  \\\n",
       "site_id                                                              \n",
       "HRCE-1_1_AA02_1  COC(=O)NC1=NC2=C(N1)C=C(C=C2)C(=O)C1=CC=C(F)C=...   \n",
       "HRCE-1_1_AA02_2  COC(=O)NC1=NC2=C(N1)C=C(C=C2)C(=O)C1=CC=C(F)C=...   \n",
       "HRCE-1_1_AA02_3  COC(=O)NC1=NC2=C(N1)C=C(C=C2)C(=O)C1=CC=C(F)C=...   \n",
       "HRCE-1_1_AA02_4  COC(=O)NC1=NC2=C(N1)C=C(C=C2)C(=O)C1=CC=C(F)C=...   \n",
       "HRCE-1_1_AA03_1                     CC(=O)N[C@H](CS)C(O)=O |a:4,r|   \n",
       "...                                                            ...   \n",
       "VERO-2_2_Z46_4   CC(C)[C@H](N1CCCNC1=O)C(=O)N[C@H](C[C@H](O)[C@...   \n",
       "VERO-2_2_Z47_1                                                 NaN   \n",
       "VERO-2_2_Z47_2                                                 NaN   \n",
       "VERO-2_2_Z47_3                                                 NaN   \n",
       "VERO-2_2_Z47_4                                                 NaN   \n",
       "\n",
       "                 vero_1_classification  vero_2_classification  \\\n",
       "site_id                                                         \n",
       "HRCE-1_1_AA02_1              -5.999348              -5.355074   \n",
       "HRCE-1_1_AA02_2              -6.120164              -4.947076   \n",
       "HRCE-1_1_AA02_3              -6.588516              -4.601345   \n",
       "HRCE-1_1_AA02_4              -6.619923              -6.516193   \n",
       "HRCE-1_1_AA03_1              -6.791273              -7.134920   \n",
       "...                                ...                    ...   \n",
       "VERO-2_2_Z46_4              -12.056694             -12.709741   \n",
       "VERO-2_2_Z47_1              -11.540191             -11.981070   \n",
       "VERO-2_2_Z47_2              -15.166028             -11.570478   \n",
       "VERO-2_2_Z47_3              -10.725308             -11.238167   \n",
       "VERO-2_2_Z47_4              -17.180456             -11.780373   \n",
       "\n",
       "                 hrce_1_classification  hrce_2_classification  variability  \\\n",
       "site_id                                                                      \n",
       "HRCE-1_1_AA02_1             -11.573555              -5.042294     5.751396   \n",
       "HRCE-1_1_AA02_2             -12.134503              -2.888548     5.751396   \n",
       "HRCE-1_1_AA02_3              -6.383106              -3.218826     5.751396   \n",
       "HRCE-1_1_AA02_4              -9.312073              -3.422482     5.751396   \n",
       "HRCE-1_1_AA03_1             -10.971833              -0.649453     6.170646   \n",
       "...                                ...                    ...          ...   \n",
       "VERO-2_2_Z46_4              -21.612921             -12.628800     4.749392   \n",
       "VERO-2_2_Z47_1              -14.820165              -7.731190     0.742903   \n",
       "VERO-2_2_Z47_2              -23.160319             -15.303752     0.742903   \n",
       "VERO-2_2_Z47_3              -20.052702              -7.824815     0.742903   \n",
       "VERO-2_2_Z47_4              -28.874303             -16.921690     0.742903   \n",
       "\n",
       "                 well_classification_average  \n",
       "site_id                                       \n",
       "HRCE-1_1_AA02_1                    -9.850809  \n",
       "HRCE-1_1_AA02_2                    -9.850809  \n",
       "HRCE-1_1_AA02_3                    -9.850809  \n",
       "HRCE-1_1_AA02_4                    -9.850809  \n",
       "HRCE-1_1_AA03_1                   -11.144167  \n",
       "...                                      ...  \n",
       "VERO-2_2_Z46_4                    -10.223600  \n",
       "VERO-2_2_Z47_1                    -11.642522  \n",
       "VERO-2_2_Z47_2                    -11.642522  \n",
       "VERO-2_2_Z47_3                    -11.642522  \n",
       "VERO-2_2_Z47_4                    -11.642522  \n",
       "\n",
       "[305520 rows x 16 columns]"
      ]
     },
     "execution_count": 17,
     "metadata": {},
     "output_type": "execute_result"
    }
   ],
   "source": [
    "cmd"
   ]
  },
  {
   "cell_type": "code",
   "execution_count": 18,
   "metadata": {},
   "outputs": [
    {
     "data": {
      "text/plain": [
       "array([[<AxesSubplot:title={'center':'HRCE-1'}>,\n",
       "        <AxesSubplot:title={'center':'HRCE-2'}>],\n",
       "       [<AxesSubplot:title={'center':'VERO-1'}>,\n",
       "        <AxesSubplot:title={'center':'VERO-2'}>]], dtype=object)"
      ]
     },
     "execution_count": 18,
     "metadata": {},
     "output_type": "execute_result"
    },
    {
     "data": {
      "image/png": "[encoded data removed]",
      "text/plain": [
       "<Figure size 432x288 with 4 Axes>"
      ]
     },
     "metadata": {
      "needs_background": "light"
     },
     "output_type": "display_data"
    }
   ],
   "source": [
    "cmd.hist(by = \"experiment\", column = \"variability\", bins = 20)"
   ]
  },
  {
   "cell_type": "markdown",
   "metadata": {},
   "source": [
    "Now, we may repeat our earlier set of boxplots, this time using well_classifiaction average, and observe a moderate improvement, most noticebly in the hrce experiments"
   ]
  },
  {
   "cell_type": "code",
   "execution_count": 19,
   "metadata": {},
   "outputs": [
    {
     "data": {
      "image/png": "[encoded data removed]",
      "text/plain": [
       "<Figure size 432x288 with 1 Axes>"
      ]
     },
     "metadata": {
      "needs_background": "light"
     },
     "output_type": "display_data"
    },
    {
     "data": {
      "text/plain": [
       "<Figure size 432x288 with 0 Axes>"
      ]
     },
     "metadata": {},
     "output_type": "display_data"
    },
    {
     "data": {
      "image/png": "[encoded data removed]",
      "text/plain": [
       "<Figure size 432x288 with 1 Axes>"
      ]
     },
     "metadata": {
      "needs_background": "light"
     },
     "output_type": "display_data"
    },
    {
     "data": {
      "text/plain": [
       "<Figure size 432x288 with 0 Axes>"
      ]
     },
     "metadata": {},
     "output_type": "display_data"
    },
    {
     "data": {
      "image/png": "[encoded data removed]",
      "text/plain": [
       "<Figure size 432x288 with 1 Axes>"
      ]
     },
     "metadata": {
      "needs_background": "light"
     },
     "output_type": "display_data"
    },
    {
     "data": {
      "text/plain": [
       "<Figure size 432x288 with 0 Axes>"
      ]
     },
     "metadata": {},
     "output_type": "display_data"
    },
    {
     "data": {
      "image/png": "[encoded data removed]",
      "text/plain": [
       "<Figure size 432x288 with 1 Axes>"
      ]
     },
     "metadata": {
      "needs_background": "light"
     },
     "output_type": "display_data"
    },
    {
     "data": {
      "text/plain": [
       "<Figure size 432x288 with 0 Axes>"
      ]
     },
     "metadata": {},
     "output_type": "display_data"
    }
   ],
   "source": [
    "vero_1 = cmd[cmd.experiment == \"VERO-1\"]\n",
    "vero_2 = cmd[cmd.experiment == \"VERO-2\"]\n",
    "hrce_1 = cmd[cmd.experiment == \"HRCE-1\"]\n",
    "hrce_2 = cmd[cmd.experiment == \"HRCE-2\"] #updated to reflect the changes in cmd\n",
    "\n",
    "for experiment in [vero_1, vero_2, hrce_1, hrce_2]:\n",
    "    experiment.boxplot(by = 'disease_condition', column = ['well_classification_average'], grid = False)\n",
    "    plt.figure()"
   ]
  },
  {
   "cell_type": "markdown",
   "metadata": {},
   "source": [
    "Next, we will attempt to find and correct for plate well position bias. To do this, we must first convert the well names (formated as one or two letters followed by two digits) into inteligible x-y coordinates. "
   ]
  },
  {
   "cell_type": "code",
   "execution_count": 20,
   "metadata": {
    "jupyter": {
     "source_hidden": true
    }
   },
   "outputs": [],
   "source": [
    "letter_to_coord = {\n",
    "    \"A\" : 0,\n",
    "    \"B\" : 1,\n",
    "    \"C\" : 2,\n",
    "    \"D\" : 3,\n",
    "    \"E\" : 4,\n",
    "    \"F\" : 5,\n",
    "    \"G\" : 6,\n",
    "    \"H\" : 7,\n",
    "    \"I\" : 8,\n",
    "    \"J\" : 9,\n",
    "    \"K\" : 10,\n",
    "    \"L\" : 11,\n",
    "    \"M\" : 12,\n",
    "    \"N\" : 13,\n",
    "    \"O\" : 14,\n",
    "    \"P\" : 15,\n",
    "    \"Q\" : 16,\n",
    "    \"R\" : 17,\n",
    "    \"S\" : 18,\n",
    "    \"T\" : 19,\n",
    "    \"U\" : 20,\n",
    "    \"V\" : 21,\n",
    "    \"W\" : 22,\n",
    "    \"X\" : 23,\n",
    "    \"Y\" : 24,\n",
    "    \"Z\" : 25,\n",
    "    \"AA\" : 26,\n",
    "    \"AB\" : 27,\n",
    "    \"AC\" : 28,\n",
    "    \"AD\" : 29,\n",
    "    \"AE\" : 30,\n",
    "    \"AF\" : 31}"
   ]
  },
  {
   "cell_type": "code",
   "execution_count": 21,
   "metadata": {},
   "outputs": [],
   "source": [
    "cmd['x'] = cmd.well.str[-2:].map(lambda a: int(a))"
   ]
  },
  {
   "cell_type": "code",
   "execution_count": 22,
   "metadata": {},
   "outputs": [],
   "source": [
    "cmd['y'] = cmd.well.str[:-2].map(letter_to_coord)"
   ]
  },
  {
   "cell_type": "code",
   "execution_count": 23,
   "metadata": {},
   "outputs": [
    {
     "data": {
      "text/html": [
       "<div>\n",
       "<style scoped>\n",
       "    .dataframe tbody tr th:only-of-type {\n",
       "        vertical-align: middle;\n",
       "    }\n",
       "\n",
       "    .dataframe tbody tr th {\n",
       "        vertical-align: top;\n",
       "    }\n",
       "\n",
       "    .dataframe thead th {\n",
       "        text-align: right;\n",
       "    }\n",
       "</style>\n",
       "<table border=\"1\" class=\"dataframe\">\n",
       "  <thead>\n",
       "    <tr style=\"text-align: right;\">\n",
       "      <th></th>\n",
       "      <th>well_id</th>\n",
       "      <th>cell_type</th>\n",
       "      <th>experiment</th>\n",
       "      <th>plate</th>\n",
       "      <th>well</th>\n",
       "      <th>site</th>\n",
       "      <th>disease_condition</th>\n",
       "      <th>treatment</th>\n",
       "      <th>treatment_conc</th>\n",
       "      <th>SMILES</th>\n",
       "      <th>vero_1_classification</th>\n",
       "      <th>vero_2_classification</th>\n",
       "      <th>hrce_1_classification</th>\n",
       "      <th>hrce_2_classification</th>\n",
       "      <th>variability</th>\n",
       "      <th>well_classification_average</th>\n",
       "      <th>x</th>\n",
       "      <th>y</th>\n",
       "    </tr>\n",
       "    <tr>\n",
       "      <th>site_id</th>\n",
       "      <th></th>\n",
       "      <th></th>\n",
       "      <th></th>\n",
       "      <th></th>\n",
       "      <th></th>\n",
       "      <th></th>\n",
       "      <th></th>\n",
       "      <th></th>\n",
       "      <th></th>\n",
       "      <th></th>\n",
       "      <th></th>\n",
       "      <th></th>\n",
       "      <th></th>\n",
       "      <th></th>\n",
       "      <th></th>\n",
       "      <th></th>\n",
       "      <th></th>\n",
       "      <th></th>\n",
       "    </tr>\n",
       "  </thead>\n",
       "  <tbody>\n",
       "    <tr>\n",
       "      <th>HRCE-1_1_AA02_1</th>\n",
       "      <td>HRCE-1_1_AA02</td>\n",
       "      <td>HRCE</td>\n",
       "      <td>HRCE-1</td>\n",
       "      <td>1</td>\n",
       "      <td>AA02</td>\n",
       "      <td>1</td>\n",
       "      <td>Active SARS-CoV-2</td>\n",
       "      <td>Flubendazole</td>\n",
       "      <td>0.1</td>\n",
       "      <td>COC(=O)NC1=NC2=C(N1)C=C(C=C2)C(=O)C1=CC=C(F)C=...</td>\n",
       "      <td>-5.999348</td>\n",
       "      <td>-5.355074</td>\n",
       "      <td>-11.573555</td>\n",
       "      <td>-5.042294</td>\n",
       "      <td>5.751396</td>\n",
       "      <td>-9.850809</td>\n",
       "      <td>2</td>\n",
       "      <td>26</td>\n",
       "    </tr>\n",
       "    <tr>\n",
       "      <th>HRCE-1_1_AA02_2</th>\n",
       "      <td>HRCE-1_1_AA02</td>\n",
       "      <td>HRCE</td>\n",
       "      <td>HRCE-1</td>\n",
       "      <td>1</td>\n",
       "      <td>AA02</td>\n",
       "      <td>2</td>\n",
       "      <td>Active SARS-CoV-2</td>\n",
       "      <td>Flubendazole</td>\n",
       "      <td>0.1</td>\n",
       "      <td>COC(=O)NC1=NC2=C(N1)C=C(C=C2)C(=O)C1=CC=C(F)C=...</td>\n",
       "      <td>-6.120164</td>\n",
       "      <td>-4.947076</td>\n",
       "      <td>-12.134503</td>\n",
       "      <td>-2.888548</td>\n",
       "      <td>5.751396</td>\n",
       "      <td>-9.850809</td>\n",
       "      <td>2</td>\n",
       "      <td>26</td>\n",
       "    </tr>\n",
       "    <tr>\n",
       "      <th>HRCE-1_1_AA02_3</th>\n",
       "      <td>HRCE-1_1_AA02</td>\n",
       "      <td>HRCE</td>\n",
       "      <td>HRCE-1</td>\n",
       "      <td>1</td>\n",
       "      <td>AA02</td>\n",
       "      <td>3</td>\n",
       "      <td>Active SARS-CoV-2</td>\n",
       "      <td>Flubendazole</td>\n",
       "      <td>0.1</td>\n",
       "      <td>COC(=O)NC1=NC2=C(N1)C=C(C=C2)C(=O)C1=CC=C(F)C=...</td>\n",
       "      <td>-6.588516</td>\n",
       "      <td>-4.601345</td>\n",
       "      <td>-6.383106</td>\n",
       "      <td>-3.218826</td>\n",
       "      <td>5.751396</td>\n",
       "      <td>-9.850809</td>\n",
       "      <td>2</td>\n",
       "      <td>26</td>\n",
       "    </tr>\n",
       "    <tr>\n",
       "      <th>HRCE-1_1_AA02_4</th>\n",
       "      <td>HRCE-1_1_AA02</td>\n",
       "      <td>HRCE</td>\n",
       "      <td>HRCE-1</td>\n",
       "      <td>1</td>\n",
       "      <td>AA02</td>\n",
       "      <td>4</td>\n",
       "      <td>Active SARS-CoV-2</td>\n",
       "      <td>Flubendazole</td>\n",
       "      <td>0.1</td>\n",
       "      <td>COC(=O)NC1=NC2=C(N1)C=C(C=C2)C(=O)C1=CC=C(F)C=...</td>\n",
       "      <td>-6.619923</td>\n",
       "      <td>-6.516193</td>\n",
       "      <td>-9.312073</td>\n",
       "      <td>-3.422482</td>\n",
       "      <td>5.751396</td>\n",
       "      <td>-9.850809</td>\n",
       "      <td>2</td>\n",
       "      <td>26</td>\n",
       "    </tr>\n",
       "    <tr>\n",
       "      <th>HRCE-1_1_AA03_1</th>\n",
       "      <td>HRCE-1_1_AA03</td>\n",
       "      <td>HRCE</td>\n",
       "      <td>HRCE-1</td>\n",
       "      <td>1</td>\n",
       "      <td>AA03</td>\n",
       "      <td>1</td>\n",
       "      <td>Active SARS-CoV-2</td>\n",
       "      <td>acetylcysteine</td>\n",
       "      <td>1.0</td>\n",
       "      <td>CC(=O)N[C@H](CS)C(O)=O |a:4,r|</td>\n",
       "      <td>-6.791273</td>\n",
       "      <td>-7.134920</td>\n",
       "      <td>-10.971833</td>\n",
       "      <td>-0.649453</td>\n",
       "      <td>6.170646</td>\n",
       "      <td>-11.144167</td>\n",
       "      <td>3</td>\n",
       "      <td>26</td>\n",
       "    </tr>\n",
       "    <tr>\n",
       "      <th>...</th>\n",
       "      <td>...</td>\n",
       "      <td>...</td>\n",
       "      <td>...</td>\n",
       "      <td>...</td>\n",
       "      <td>...</td>\n",
       "      <td>...</td>\n",
       "      <td>...</td>\n",
       "      <td>...</td>\n",
       "      <td>...</td>\n",
       "      <td>...</td>\n",
       "      <td>...</td>\n",
       "      <td>...</td>\n",
       "      <td>...</td>\n",
       "      <td>...</td>\n",
       "      <td>...</td>\n",
       "      <td>...</td>\n",
       "      <td>...</td>\n",
       "      <td>...</td>\n",
       "    </tr>\n",
       "    <tr>\n",
       "      <th>VERO-2_2_Z46_4</th>\n",
       "      <td>VERO-2_2_Z46</td>\n",
       "      <td>VERO</td>\n",
       "      <td>VERO-2</td>\n",
       "      <td>2</td>\n",
       "      <td>Z46</td>\n",
       "      <td>4</td>\n",
       "      <td>Active SARS-CoV-2</td>\n",
       "      <td>Lopinavir</td>\n",
       "      <td>1.0</td>\n",
       "      <td>CC(C)[C@H](N1CCCNC1=O)C(=O)N[C@H](C[C@H](O)[C@...</td>\n",
       "      <td>-12.056694</td>\n",
       "      <td>-12.709741</td>\n",
       "      <td>-21.612921</td>\n",
       "      <td>-12.628800</td>\n",
       "      <td>4.749392</td>\n",
       "      <td>-10.223600</td>\n",
       "      <td>46</td>\n",
       "      <td>25</td>\n",
       "    </tr>\n",
       "    <tr>\n",
       "      <th>VERO-2_2_Z47_1</th>\n",
       "      <td>VERO-2_2_Z47</td>\n",
       "      <td>VERO</td>\n",
       "      <td>VERO-2</td>\n",
       "      <td>2</td>\n",
       "      <td>Z47</td>\n",
       "      <td>1</td>\n",
       "      <td>Active SARS-CoV-2</td>\n",
       "      <td>NaN</td>\n",
       "      <td>NaN</td>\n",
       "      <td>NaN</td>\n",
       "      <td>-11.540191</td>\n",
       "      <td>-11.981070</td>\n",
       "      <td>-14.820165</td>\n",
       "      <td>-7.731190</td>\n",
       "      <td>0.742903</td>\n",
       "      <td>-11.642522</td>\n",
       "      <td>47</td>\n",
       "      <td>25</td>\n",
       "    </tr>\n",
       "    <tr>\n",
       "      <th>VERO-2_2_Z47_2</th>\n",
       "      <td>VERO-2_2_Z47</td>\n",
       "      <td>VERO</td>\n",
       "      <td>VERO-2</td>\n",
       "      <td>2</td>\n",
       "      <td>Z47</td>\n",
       "      <td>2</td>\n",
       "      <td>Active SARS-CoV-2</td>\n",
       "      <td>NaN</td>\n",
       "      <td>NaN</td>\n",
       "      <td>NaN</td>\n",
       "      <td>-15.166028</td>\n",
       "      <td>-11.570478</td>\n",
       "      <td>-23.160319</td>\n",
       "      <td>-15.303752</td>\n",
       "      <td>0.742903</td>\n",
       "      <td>-11.642522</td>\n",
       "      <td>47</td>\n",
       "      <td>25</td>\n",
       "    </tr>\n",
       "    <tr>\n",
       "      <th>VERO-2_2_Z47_3</th>\n",
       "      <td>VERO-2_2_Z47</td>\n",
       "      <td>VERO</td>\n",
       "      <td>VERO-2</td>\n",
       "      <td>2</td>\n",
       "      <td>Z47</td>\n",
       "      <td>3</td>\n",
       "      <td>Active SARS-CoV-2</td>\n",
       "      <td>NaN</td>\n",
       "      <td>NaN</td>\n",
       "      <td>NaN</td>\n",
       "      <td>-10.725308</td>\n",
       "      <td>-11.238167</td>\n",
       "      <td>-20.052702</td>\n",
       "      <td>-7.824815</td>\n",
       "      <td>0.742903</td>\n",
       "      <td>-11.642522</td>\n",
       "      <td>47</td>\n",
       "      <td>25</td>\n",
       "    </tr>\n",
       "    <tr>\n",
       "      <th>VERO-2_2_Z47_4</th>\n",
       "      <td>VERO-2_2_Z47</td>\n",
       "      <td>VERO</td>\n",
       "      <td>VERO-2</td>\n",
       "      <td>2</td>\n",
       "      <td>Z47</td>\n",
       "      <td>4</td>\n",
       "      <td>Active SARS-CoV-2</td>\n",
       "      <td>NaN</td>\n",
       "      <td>NaN</td>\n",
       "      <td>NaN</td>\n",
       "      <td>-17.180456</td>\n",
       "      <td>-11.780373</td>\n",
       "      <td>-28.874303</td>\n",
       "      <td>-16.921690</td>\n",
       "      <td>0.742903</td>\n",
       "      <td>-11.642522</td>\n",
       "      <td>47</td>\n",
       "      <td>25</td>\n",
       "    </tr>\n",
       "  </tbody>\n",
       "</table>\n",
       "<p>305520 rows × 18 columns</p>\n",
       "</div>"
      ],
      "text/plain": [
       "                       well_id cell_type experiment  plate  well  site  \\\n",
       "site_id                                                                  \n",
       "HRCE-1_1_AA02_1  HRCE-1_1_AA02      HRCE     HRCE-1      1  AA02     1   \n",
       "HRCE-1_1_AA02_2  HRCE-1_1_AA02      HRCE     HRCE-1      1  AA02     2   \n",
       "HRCE-1_1_AA02_3  HRCE-1_1_AA02      HRCE     HRCE-1      1  AA02     3   \n",
       "HRCE-1_1_AA02_4  HRCE-1_1_AA02      HRCE     HRCE-1      1  AA02     4   \n",
       "HRCE-1_1_AA03_1  HRCE-1_1_AA03      HRCE     HRCE-1      1  AA03     1   \n",
       "...                        ...       ...        ...    ...   ...   ...   \n",
       "VERO-2_2_Z46_4    VERO-2_2_Z46      VERO     VERO-2      2   Z46     4   \n",
       "VERO-2_2_Z47_1    VERO-2_2_Z47      VERO     VERO-2      2   Z47     1   \n",
       "VERO-2_2_Z47_2    VERO-2_2_Z47      VERO     VERO-2      2   Z47     2   \n",
       "VERO-2_2_Z47_3    VERO-2_2_Z47      VERO     VERO-2      2   Z47     3   \n",
       "VERO-2_2_Z47_4    VERO-2_2_Z47      VERO     VERO-2      2   Z47     4   \n",
       "\n",
       "                 disease_condition       treatment  treatment_conc  \\\n",
       "site_id                                                              \n",
       "HRCE-1_1_AA02_1  Active SARS-CoV-2    Flubendazole             0.1   \n",
       "HRCE-1_1_AA02_2  Active SARS-CoV-2    Flubendazole             0.1   \n",
       "HRCE-1_1_AA02_3  Active SARS-CoV-2    Flubendazole             0.1   \n",
       "HRCE-1_1_AA02_4  Active SARS-CoV-2    Flubendazole             0.1   \n",
       "HRCE-1_1_AA03_1  Active SARS-CoV-2  acetylcysteine             1.0   \n",
       "...                            ...             ...             ...   \n",
       "VERO-2_2_Z46_4   Active SARS-CoV-2       Lopinavir             1.0   \n",
       "VERO-2_2_Z47_1   Active SARS-CoV-2             NaN             NaN   \n",
       "VERO-2_2_Z47_2   Active SARS-CoV-2             NaN             NaN   \n",
       "VERO-2_2_Z47_3   Active SARS-CoV-2             NaN             NaN   \n",
       "VERO-2_2_Z47_4   Active SARS-CoV-2             NaN             NaN   \n",
       "\n",
       "                                                            SMILES  \\\n",
       "site_id                                                              \n",
       "HRCE-1_1_AA02_1  COC(=O)NC1=NC2=C(N1)C=C(C=C2)C(=O)C1=CC=C(F)C=...   \n",
       "HRCE-1_1_AA02_2  COC(=O)NC1=NC2=C(N1)C=C(C=C2)C(=O)C1=CC=C(F)C=...   \n",
       "HRCE-1_1_AA02_3  COC(=O)NC1=NC2=C(N1)C=C(C=C2)C(=O)C1=CC=C(F)C=...   \n",
       "HRCE-1_1_AA02_4  COC(=O)NC1=NC2=C(N1)C=C(C=C2)C(=O)C1=CC=C(F)C=...   \n",
       "HRCE-1_1_AA03_1                     CC(=O)N[C@H](CS)C(O)=O |a:4,r|   \n",
       "...                                                            ...   \n",
       "VERO-2_2_Z46_4   CC(C)[C@H](N1CCCNC1=O)C(=O)N[C@H](C[C@H](O)[C@...   \n",
       "VERO-2_2_Z47_1                                                 NaN   \n",
       "VERO-2_2_Z47_2                                                 NaN   \n",
       "VERO-2_2_Z47_3                                                 NaN   \n",
       "VERO-2_2_Z47_4                                                 NaN   \n",
       "\n",
       "                 vero_1_classification  vero_2_classification  \\\n",
       "site_id                                                         \n",
       "HRCE-1_1_AA02_1              -5.999348              -5.355074   \n",
       "HRCE-1_1_AA02_2              -6.120164              -4.947076   \n",
       "HRCE-1_1_AA02_3              -6.588516              -4.601345   \n",
       "HRCE-1_1_AA02_4              -6.619923              -6.516193   \n",
       "HRCE-1_1_AA03_1              -6.791273              -7.134920   \n",
       "...                                ...                    ...   \n",
       "VERO-2_2_Z46_4              -12.056694             -12.709741   \n",
       "VERO-2_2_Z47_1              -11.540191             -11.981070   \n",
       "VERO-2_2_Z47_2              -15.166028             -11.570478   \n",
       "VERO-2_2_Z47_3              -10.725308             -11.238167   \n",
       "VERO-2_2_Z47_4              -17.180456             -11.780373   \n",
       "\n",
       "                 hrce_1_classification  hrce_2_classification  variability  \\\n",
       "site_id                                                                      \n",
       "HRCE-1_1_AA02_1             -11.573555              -5.042294     5.751396   \n",
       "HRCE-1_1_AA02_2             -12.134503              -2.888548     5.751396   \n",
       "HRCE-1_1_AA02_3              -6.383106              -3.218826     5.751396   \n",
       "HRCE-1_1_AA02_4              -9.312073              -3.422482     5.751396   \n",
       "HRCE-1_1_AA03_1             -10.971833              -0.649453     6.170646   \n",
       "...                                ...                    ...          ...   \n",
       "VERO-2_2_Z46_4              -21.612921             -12.628800     4.749392   \n",
       "VERO-2_2_Z47_1              -14.820165              -7.731190     0.742903   \n",
       "VERO-2_2_Z47_2              -23.160319             -15.303752     0.742903   \n",
       "VERO-2_2_Z47_3              -20.052702              -7.824815     0.742903   \n",
       "VERO-2_2_Z47_4              -28.874303             -16.921690     0.742903   \n",
       "\n",
       "                 well_classification_average   x   y  \n",
       "site_id                                               \n",
       "HRCE-1_1_AA02_1                    -9.850809   2  26  \n",
       "HRCE-1_1_AA02_2                    -9.850809   2  26  \n",
       "HRCE-1_1_AA02_3                    -9.850809   2  26  \n",
       "HRCE-1_1_AA02_4                    -9.850809   2  26  \n",
       "HRCE-1_1_AA03_1                   -11.144167   3  26  \n",
       "...                                      ...  ..  ..  \n",
       "VERO-2_2_Z46_4                    -10.223600  46  25  \n",
       "VERO-2_2_Z47_1                    -11.642522  47  25  \n",
       "VERO-2_2_Z47_2                    -11.642522  47  25  \n",
       "VERO-2_2_Z47_3                    -11.642522  47  25  \n",
       "VERO-2_2_Z47_4                    -11.642522  47  25  \n",
       "\n",
       "[305520 rows x 18 columns]"
      ]
     },
     "execution_count": 23,
     "metadata": {},
     "output_type": "execute_result"
    }
   ],
   "source": [
    "cmd"
   ]
  },
  {
   "cell_type": "markdown",
   "metadata": {},
   "source": [
    "We will now graph average scores by position for each experiment and, while we're here, check to see how the control wells are distributed"
   ]
  },
  {
   "cell_type": "code",
   "execution_count": 24,
   "metadata": {},
   "outputs": [],
   "source": [
    "import scipy.sparse"
   ]
  },
  {
   "cell_type": "code",
   "execution_count": 25,
   "metadata": {},
   "outputs": [
    {
     "data": {
      "image/png": "[encoded data removed]",
      "text/plain": [
       "<Figure size 445.935x288 with 1 Axes>"
      ]
     },
     "metadata": {
      "needs_background": "light"
     },
     "output_type": "display_data"
    },
    {
     "data": {
      "image/png": "[encoded data removed]",
      "text/plain": [
       "<Figure size 445.935x288 with 1 Axes>"
      ]
     },
     "metadata": {
      "needs_background": "light"
     },
     "output_type": "display_data"
    },
    {
     "data": {
      "image/png": "[encoded data removed]",
      "text/plain": [
       "<Figure size 445.935x288 with 1 Axes>"
      ]
     },
     "metadata": {
      "needs_background": "light"
     },
     "output_type": "display_data"
    },
    {
     "data": {
      "image/png": "[encoded data removed]",
      "text/plain": [
       "<Figure size 445.935x288 with 1 Axes>"
      ]
     },
     "metadata": {
      "needs_background": "light"
     },
     "output_type": "display_data"
    }
   ],
   "source": [
    "vero_1 = cmd[cmd.experiment == \"VERO-1\"]\n",
    "vero_2 = cmd[cmd.experiment == \"VERO-2\"]\n",
    "hrce_1 = cmd[cmd.experiment == \"HRCE-1\"]\n",
    "hrce_2 = cmd[cmd.experiment == \"HRCE-2\"] #updated to reflect the changes in cmd\n",
    "for experiment in [vero_1, vero_2, hrce_1, hrce_2]:\n",
    "    plt.matshow(scipy.sparse.coo_matrix((experiment.well_classification_average, (experiment.y, experiment.x))).todense().A)\n",
    "    plt.figure"
   ]
  },
  {
   "cell_type": "code",
   "execution_count": 26,
   "metadata": {},
   "outputs": [
    {
     "data": {
      "image/png": "[encoded data removed]",
      "text/plain": [
       "<Figure size 445.935x288 with 1 Axes>"
      ]
     },
     "metadata": {
      "needs_background": "light"
     },
     "output_type": "display_data"
    },
    {
     "data": {
      "image/png": "[encoded data removed]",
      "text/plain": [
       "<Figure size 445.935x288 with 1 Axes>"
      ]
     },
     "metadata": {
      "needs_background": "light"
     },
     "output_type": "display_data"
    },
    {
     "data": {
      "image/png": "[encoded data removed]",
      "text/plain": [
       "<Figure size 445.935x288 with 1 Axes>"
      ]
     },
     "metadata": {
      "needs_background": "light"
     },
     "output_type": "display_data"
    },
    {
     "data": {
      "image/png": "[encoded data removed]",
      "text/plain": [
       "<Figure size 445.935x288 with 1 Axes>"
      ]
     },
     "metadata": {
      "needs_background": "light"
     },
     "output_type": "display_data"
    }
   ],
   "source": [
    "for experiment in [vero_1, vero_2, hrce_1, hrce_2]:\n",
    "    plt.matshow(scipy.sparse.coo_matrix((experiment.disease_condition.map({\"Active SARS-CoV-2\":0, \"UV Inactivated SARS-CoV-2\":1, \"Mock\":3}),\n",
    "                                         (experiment.y, experiment.x))).todense().A)\n",
    "    plt.figure"
   ]
  },
  {
   "cell_type": "markdown",
   "metadata": {},
   "source": [
    "The distribution of the control wells, while apparently the same on each plate in a given experiment, does not pose much of a problem for our classifier, as they are not all clustered in one corner. However, there does appear to be some bias by position, which may also be shown by scattering median classification by x and y."
   ]
  },
  {
   "cell_type": "code",
   "execution_count": 27,
   "metadata": {},
   "outputs": [
    {
     "data": {
      "image/png": "[encoded data removed]",
      "text/plain": [
       "<Figure size 432x288 with 1 Axes>"
      ]
     },
     "metadata": {
      "needs_background": "light"
     },
     "output_type": "display_data"
    },
    {
     "data": {
      "image/png": "[encoded data removed]",
      "text/plain": [
       "<Figure size 432x288 with 1 Axes>"
      ]
     },
     "metadata": {
      "needs_background": "light"
     },
     "output_type": "display_data"
    },
    {
     "data": {
      "image/png": "[encoded data removed]",
      "text/plain": [
       "<Figure size 432x288 with 1 Axes>"
      ]
     },
     "metadata": {
      "needs_background": "light"
     },
     "output_type": "display_data"
    },
    {
     "data": {
      "image/png": "[encoded data removed]",
      "text/plain": [
       "<Figure size 432x288 with 1 Axes>"
      ]
     },
     "metadata": {
      "needs_background": "light"
     },
     "output_type": "display_data"
    },
    {
     "data": {
      "image/png": "[encoded data removed]",
      "text/plain": [
       "<Figure size 432x288 with 1 Axes>"
      ]
     },
     "metadata": {
      "needs_background": "light"
     },
     "output_type": "display_data"
    },
    {
     "data": {
      "image/png": "[encoded data removed]",
      "text/plain": [
       "<Figure size 432x288 with 1 Axes>"
      ]
     },
     "metadata": {
      "needs_background": "light"
     },
     "output_type": "display_data"
    },
    {
     "data": {
      "image/png": "[encoded data removed]",
      "text/plain": [
       "<Figure size 432x288 with 1 Axes>"
      ]
     },
     "metadata": {
      "needs_background": "light"
     },
     "output_type": "display_data"
    },
    {
     "data": {
      "image/png": "[encoded data removed]",
      "text/plain": [
       "<Figure size 432x288 with 1 Axes>"
      ]
     },
     "metadata": {
      "needs_background": "light"
     },
     "output_type": "display_data"
    },
    {
     "data": {
      "text/plain": [
       "<Figure size 432x288 with 0 Axes>"
      ]
     },
     "metadata": {},
     "output_type": "display_data"
    }
   ],
   "source": [
    "for experiment in [vero_1, vero_2, hrce_1, hrce_2]:\n",
    "    plt.scatter(\n",
    "    experiment.x.unique(),\n",
    "    pd.DataFrame(experiment.x.unique())[0].map(lambda a : experiment[experiment.x == a].well_classification_average.median()))\n",
    "    plt.figure()\n",
    "    plt.scatter(\n",
    "    experiment.y.unique(),\n",
    "    pd.DataFrame(experiment.y.unique())[0].map(lambda a : experiment[experiment.y == a].well_classification_average.median()))\n",
    "    plt.figure()"
   ]
  },
  {
   "cell_type": "markdown",
   "metadata": {},
   "source": [
    "discounting, in the x graphs, the control columns, one can see that there is a variation of up to around 2 in the column and row medians. We will now mitigate this using median polishing."
   ]
  },
  {
   "cell_type": "code",
   "execution_count": 28,
   "metadata": {},
   "outputs": [],
   "source": [
    "cmd[\"adjusted_score\"] = cmd.well_classification_average"
   ]
  },
  {
   "cell_type": "code",
   "execution_count": 29,
   "metadata": {},
   "outputs": [],
   "source": [
    "vero_1 = cmd[cmd.experiment == \"VERO-1\"]\n",
    "vero_2 = cmd[cmd.experiment == \"VERO-2\"]\n",
    "hrce_1 = cmd[cmd.experiment == \"HRCE-1\"]\n",
    "hrce_2 = cmd[cmd.experiment == \"HRCE-2\"] "
   ]
  },
  {
   "cell_type": "code",
   "execution_count": 30,
   "metadata": {},
   "outputs": [
    {
     "name": "stderr",
     "output_type": "stream",
     "text": [
      "C:\\Users\\Milo\\anaconda3\\lib\\site-packages\\pandas\\core\\generic.py:5168: SettingWithCopyWarning: \n",
      "A value is trying to be set on a copy of a slice from a DataFrame.\n",
      "Try using .loc[row_indexer,col_indexer] = value instead\n",
      "\n",
      "See the caveats in the documentation: https://pandas.pydata.org/pandas-docs/stable/user_guide/indexing.html#returning-a-view-versus-a-copy\n",
      "  self[name] = value\n"
     ]
    }
   ],
   "source": [
    "for experiment in [vero_1, vero_2, hrce_1, hrce_2]:\n",
    "    for i in range (1, 100):\n",
    "        medians = experiment.groupby(\"x\").adjusted_score.agg(\"median\")\n",
    "        experiment.adjusted_score -= experiment.x.map(medians) / 10\n",
    "        medians = experiment.groupby(\"y\").adjusted_score.agg(\"median\")\n",
    "        experiment.adjusted_score -= experiment.y.map(medians) / 10"
   ]
  },
  {
   "cell_type": "code",
   "execution_count": 31,
   "metadata": {},
   "outputs": [],
   "source": [
    "cmd_polished = pd.concat([vero_1, vero_2, hrce_1, hrce_2], axis = 0)"
   ]
  },
  {
   "cell_type": "code",
   "execution_count": 32,
   "metadata": {},
   "outputs": [
    {
     "data": {
      "text/html": [
       "<div>\n",
       "<style scoped>\n",
       "    .dataframe tbody tr th:only-of-type {\n",
       "        vertical-align: middle;\n",
       "    }\n",
       "\n",
       "    .dataframe tbody tr th {\n",
       "        vertical-align: top;\n",
       "    }\n",
       "\n",
       "    .dataframe thead th {\n",
       "        text-align: right;\n",
       "    }\n",
       "</style>\n",
       "<table border=\"1\" class=\"dataframe\">\n",
       "  <thead>\n",
       "    <tr style=\"text-align: right;\">\n",
       "      <th></th>\n",
       "      <th>well_id</th>\n",
       "      <th>cell_type</th>\n",
       "      <th>experiment</th>\n",
       "      <th>plate</th>\n",
       "      <th>well</th>\n",
       "      <th>site</th>\n",
       "      <th>disease_condition</th>\n",
       "      <th>treatment</th>\n",
       "      <th>treatment_conc</th>\n",
       "      <th>SMILES</th>\n",
       "      <th>vero_1_classification</th>\n",
       "      <th>vero_2_classification</th>\n",
       "      <th>hrce_1_classification</th>\n",
       "      <th>hrce_2_classification</th>\n",
       "      <th>variability</th>\n",
       "      <th>well_classification_average</th>\n",
       "      <th>x</th>\n",
       "      <th>y</th>\n",
       "      <th>adjusted_score</th>\n",
       "    </tr>\n",
       "    <tr>\n",
       "      <th>site_id</th>\n",
       "      <th></th>\n",
       "      <th></th>\n",
       "      <th></th>\n",
       "      <th></th>\n",
       "      <th></th>\n",
       "      <th></th>\n",
       "      <th></th>\n",
       "      <th></th>\n",
       "      <th></th>\n",
       "      <th></th>\n",
       "      <th></th>\n",
       "      <th></th>\n",
       "      <th></th>\n",
       "      <th></th>\n",
       "      <th></th>\n",
       "      <th></th>\n",
       "      <th></th>\n",
       "      <th></th>\n",
       "      <th></th>\n",
       "    </tr>\n",
       "  </thead>\n",
       "  <tbody>\n",
       "    <tr>\n",
       "      <th>VERO-1_1_AA02_1</th>\n",
       "      <td>VERO-1_1_AA02</td>\n",
       "      <td>VERO</td>\n",
       "      <td>VERO-1</td>\n",
       "      <td>1</td>\n",
       "      <td>AA02</td>\n",
       "      <td>1</td>\n",
       "      <td>Active SARS-CoV-2</td>\n",
       "      <td>Ribavirin</td>\n",
       "      <td>0.03</td>\n",
       "      <td>NC(=O)C1=NN(C=N1)[C@H]1O[C@H](CO)[C@@H](O)[C@H...</td>\n",
       "      <td>-14.448197</td>\n",
       "      <td>-11.506718</td>\n",
       "      <td>-22.663088</td>\n",
       "      <td>-5.055114</td>\n",
       "      <td>6.572102</td>\n",
       "      <td>-11.703243</td>\n",
       "      <td>2</td>\n",
       "      <td>26</td>\n",
       "      <td>0.814288</td>\n",
       "    </tr>\n",
       "    <tr>\n",
       "      <th>VERO-1_1_AA02_2</th>\n",
       "      <td>VERO-1_1_AA02</td>\n",
       "      <td>VERO</td>\n",
       "      <td>VERO-1</td>\n",
       "      <td>1</td>\n",
       "      <td>AA02</td>\n",
       "      <td>2</td>\n",
       "      <td>Active SARS-CoV-2</td>\n",
       "      <td>Ribavirin</td>\n",
       "      <td>0.03</td>\n",
       "      <td>NC(=O)C1=NN(C=N1)[C@H]1O[C@H](CO)[C@@H](O)[C@H...</td>\n",
       "      <td>-12.929251</td>\n",
       "      <td>-11.281208</td>\n",
       "      <td>-30.949903</td>\n",
       "      <td>-7.690392</td>\n",
       "      <td>6.572102</td>\n",
       "      <td>-11.703243</td>\n",
       "      <td>2</td>\n",
       "      <td>26</td>\n",
       "      <td>0.814288</td>\n",
       "    </tr>\n",
       "    <tr>\n",
       "      <th>VERO-1_1_AA02_3</th>\n",
       "      <td>VERO-1_1_AA02</td>\n",
       "      <td>VERO</td>\n",
       "      <td>VERO-1</td>\n",
       "      <td>1</td>\n",
       "      <td>AA02</td>\n",
       "      <td>3</td>\n",
       "      <td>Active SARS-CoV-2</td>\n",
       "      <td>Ribavirin</td>\n",
       "      <td>0.03</td>\n",
       "      <td>NC(=O)C1=NN(C=N1)[C@H]1O[C@H](CO)[C@@H](O)[C@H...</td>\n",
       "      <td>-7.876096</td>\n",
       "      <td>-8.489036</td>\n",
       "      <td>-15.961391</td>\n",
       "      <td>-6.287348</td>\n",
       "      <td>6.572102</td>\n",
       "      <td>-11.703243</td>\n",
       "      <td>2</td>\n",
       "      <td>26</td>\n",
       "      <td>0.814288</td>\n",
       "    </tr>\n",
       "    <tr>\n",
       "      <th>VERO-1_1_AA02_4</th>\n",
       "      <td>VERO-1_1_AA02</td>\n",
       "      <td>VERO</td>\n",
       "      <td>VERO-1</td>\n",
       "      <td>1</td>\n",
       "      <td>AA02</td>\n",
       "      <td>4</td>\n",
       "      <td>Active SARS-CoV-2</td>\n",
       "      <td>Ribavirin</td>\n",
       "      <td>0.03</td>\n",
       "      <td>NC(=O)C1=NN(C=N1)[C@H]1O[C@H](CO)[C@@H](O)[C@H...</td>\n",
       "      <td>-11.559427</td>\n",
       "      <td>-11.974244</td>\n",
       "      <td>-18.998124</td>\n",
       "      <td>-1.581466</td>\n",
       "      <td>6.572102</td>\n",
       "      <td>-11.703243</td>\n",
       "      <td>2</td>\n",
       "      <td>26</td>\n",
       "      <td>0.814288</td>\n",
       "    </tr>\n",
       "    <tr>\n",
       "      <th>VERO-1_1_AA03_1</th>\n",
       "      <td>VERO-1_1_AA03</td>\n",
       "      <td>VERO</td>\n",
       "      <td>VERO-1</td>\n",
       "      <td>1</td>\n",
       "      <td>AA03</td>\n",
       "      <td>1</td>\n",
       "      <td>Active SARS-CoV-2</td>\n",
       "      <td>Lopinavir</td>\n",
       "      <td>0.03</td>\n",
       "      <td>CC(C)[C@H](N1CCCNC1=O)C(=O)N[C@H](C[C@H](O)[C@...</td>\n",
       "      <td>-13.575975</td>\n",
       "      <td>-10.929236</td>\n",
       "      <td>-18.326597</td>\n",
       "      <td>-4.971525</td>\n",
       "      <td>1.441173</td>\n",
       "      <td>-13.652229</td>\n",
       "      <td>3</td>\n",
       "      <td>26</td>\n",
       "      <td>-1.344860</td>\n",
       "    </tr>\n",
       "    <tr>\n",
       "      <th>...</th>\n",
       "      <td>...</td>\n",
       "      <td>...</td>\n",
       "      <td>...</td>\n",
       "      <td>...</td>\n",
       "      <td>...</td>\n",
       "      <td>...</td>\n",
       "      <td>...</td>\n",
       "      <td>...</td>\n",
       "      <td>...</td>\n",
       "      <td>...</td>\n",
       "      <td>...</td>\n",
       "      <td>...</td>\n",
       "      <td>...</td>\n",
       "      <td>...</td>\n",
       "      <td>...</td>\n",
       "      <td>...</td>\n",
       "      <td>...</td>\n",
       "      <td>...</td>\n",
       "      <td>...</td>\n",
       "    </tr>\n",
       "    <tr>\n",
       "      <th>HRCE-2_27_Z46_4</th>\n",
       "      <td>HRCE-2_27_Z46</td>\n",
       "      <td>HRCE</td>\n",
       "      <td>HRCE-2</td>\n",
       "      <td>27</td>\n",
       "      <td>Z46</td>\n",
       "      <td>4</td>\n",
       "      <td>Active SARS-CoV-2</td>\n",
       "      <td>Ribavirin</td>\n",
       "      <td>1.00</td>\n",
       "      <td>NC(=O)C1=NN(C=N1)[C@H]1O[C@H](CO)[C@@H](O)[C@H...</td>\n",
       "      <td>-4.578231</td>\n",
       "      <td>-1.972752</td>\n",
       "      <td>-13.250463</td>\n",
       "      <td>-9.419783</td>\n",
       "      <td>8.375071</td>\n",
       "      <td>-8.566929</td>\n",
       "      <td>46</td>\n",
       "      <td>25</td>\n",
       "      <td>0.114588</td>\n",
       "    </tr>\n",
       "    <tr>\n",
       "      <th>HRCE-2_27_Z47_1</th>\n",
       "      <td>HRCE-2_27_Z47</td>\n",
       "      <td>HRCE</td>\n",
       "      <td>HRCE-2</td>\n",
       "      <td>27</td>\n",
       "      <td>Z47</td>\n",
       "      <td>1</td>\n",
       "      <td>Active SARS-CoV-2</td>\n",
       "      <td>NaN</td>\n",
       "      <td>NaN</td>\n",
       "      <td>NaN</td>\n",
       "      <td>-4.202336</td>\n",
       "      <td>-3.217505</td>\n",
       "      <td>-11.789687</td>\n",
       "      <td>-4.862886</td>\n",
       "      <td>2.823657</td>\n",
       "      <td>-4.962179</td>\n",
       "      <td>47</td>\n",
       "      <td>25</td>\n",
       "      <td>4.130015</td>\n",
       "    </tr>\n",
       "    <tr>\n",
       "      <th>HRCE-2_27_Z47_2</th>\n",
       "      <td>HRCE-2_27_Z47</td>\n",
       "      <td>HRCE</td>\n",
       "      <td>HRCE-2</td>\n",
       "      <td>27</td>\n",
       "      <td>Z47</td>\n",
       "      <td>2</td>\n",
       "      <td>Active SARS-CoV-2</td>\n",
       "      <td>NaN</td>\n",
       "      <td>NaN</td>\n",
       "      <td>NaN</td>\n",
       "      <td>-4.199234</td>\n",
       "      <td>-1.738602</td>\n",
       "      <td>-7.472294</td>\n",
       "      <td>-3.742790</td>\n",
       "      <td>2.823657</td>\n",
       "      <td>-4.962179</td>\n",
       "      <td>47</td>\n",
       "      <td>25</td>\n",
       "      <td>4.130015</td>\n",
       "    </tr>\n",
       "    <tr>\n",
       "      <th>HRCE-2_27_Z47_3</th>\n",
       "      <td>HRCE-2_27_Z47</td>\n",
       "      <td>HRCE</td>\n",
       "      <td>HRCE-2</td>\n",
       "      <td>27</td>\n",
       "      <td>Z47</td>\n",
       "      <td>3</td>\n",
       "      <td>Active SARS-CoV-2</td>\n",
       "      <td>NaN</td>\n",
       "      <td>NaN</td>\n",
       "      <td>NaN</td>\n",
       "      <td>-4.771723</td>\n",
       "      <td>-4.460397</td>\n",
       "      <td>-13.687189</td>\n",
       "      <td>-6.566447</td>\n",
       "      <td>2.823657</td>\n",
       "      <td>-4.962179</td>\n",
       "      <td>47</td>\n",
       "      <td>25</td>\n",
       "      <td>4.130015</td>\n",
       "    </tr>\n",
       "    <tr>\n",
       "      <th>HRCE-2_27_Z47_4</th>\n",
       "      <td>HRCE-2_27_Z47</td>\n",
       "      <td>HRCE</td>\n",
       "      <td>HRCE-2</td>\n",
       "      <td>27</td>\n",
       "      <td>Z47</td>\n",
       "      <td>4</td>\n",
       "      <td>Active SARS-CoV-2</td>\n",
       "      <td>NaN</td>\n",
       "      <td>NaN</td>\n",
       "      <td>NaN</td>\n",
       "      <td>-4.358535</td>\n",
       "      <td>-1.720528</td>\n",
       "      <td>-8.783033</td>\n",
       "      <td>-4.676591</td>\n",
       "      <td>2.823657</td>\n",
       "      <td>-4.962179</td>\n",
       "      <td>47</td>\n",
       "      <td>25</td>\n",
       "      <td>4.130015</td>\n",
       "    </tr>\n",
       "  </tbody>\n",
       "</table>\n",
       "<p>305520 rows × 19 columns</p>\n",
       "</div>"
      ],
      "text/plain": [
       "                       well_id cell_type experiment  plate  well  site  \\\n",
       "site_id                                                                  \n",
       "VERO-1_1_AA02_1  VERO-1_1_AA02      VERO     VERO-1      1  AA02     1   \n",
       "VERO-1_1_AA02_2  VERO-1_1_AA02      VERO     VERO-1      1  AA02     2   \n",
       "VERO-1_1_AA02_3  VERO-1_1_AA02      VERO     VERO-1      1  AA02     3   \n",
       "VERO-1_1_AA02_4  VERO-1_1_AA02      VERO     VERO-1      1  AA02     4   \n",
       "VERO-1_1_AA03_1  VERO-1_1_AA03      VERO     VERO-1      1  AA03     1   \n",
       "...                        ...       ...        ...    ...   ...   ...   \n",
       "HRCE-2_27_Z46_4  HRCE-2_27_Z46      HRCE     HRCE-2     27   Z46     4   \n",
       "HRCE-2_27_Z47_1  HRCE-2_27_Z47      HRCE     HRCE-2     27   Z47     1   \n",
       "HRCE-2_27_Z47_2  HRCE-2_27_Z47      HRCE     HRCE-2     27   Z47     2   \n",
       "HRCE-2_27_Z47_3  HRCE-2_27_Z47      HRCE     HRCE-2     27   Z47     3   \n",
       "HRCE-2_27_Z47_4  HRCE-2_27_Z47      HRCE     HRCE-2     27   Z47     4   \n",
       "\n",
       "                 disease_condition  treatment  treatment_conc  \\\n",
       "site_id                                                         \n",
       "VERO-1_1_AA02_1  Active SARS-CoV-2  Ribavirin            0.03   \n",
       "VERO-1_1_AA02_2  Active SARS-CoV-2  Ribavirin            0.03   \n",
       "VERO-1_1_AA02_3  Active SARS-CoV-2  Ribavirin            0.03   \n",
       "VERO-1_1_AA02_4  Active SARS-CoV-2  Ribavirin            0.03   \n",
       "VERO-1_1_AA03_1  Active SARS-CoV-2  Lopinavir            0.03   \n",
       "...                            ...        ...             ...   \n",
       "HRCE-2_27_Z46_4  Active SARS-CoV-2  Ribavirin            1.00   \n",
       "HRCE-2_27_Z47_1  Active SARS-CoV-2        NaN             NaN   \n",
       "HRCE-2_27_Z47_2  Active SARS-CoV-2        NaN             NaN   \n",
       "HRCE-2_27_Z47_3  Active SARS-CoV-2        NaN             NaN   \n",
       "HRCE-2_27_Z47_4  Active SARS-CoV-2        NaN             NaN   \n",
       "\n",
       "                                                            SMILES  \\\n",
       "site_id                                                              \n",
       "VERO-1_1_AA02_1  NC(=O)C1=NN(C=N1)[C@H]1O[C@H](CO)[C@@H](O)[C@H...   \n",
       "VERO-1_1_AA02_2  NC(=O)C1=NN(C=N1)[C@H]1O[C@H](CO)[C@@H](O)[C@H...   \n",
       "VERO-1_1_AA02_3  NC(=O)C1=NN(C=N1)[C@H]1O[C@H](CO)[C@@H](O)[C@H...   \n",
       "VERO-1_1_AA02_4  NC(=O)C1=NN(C=N1)[C@H]1O[C@H](CO)[C@@H](O)[C@H...   \n",
       "VERO-1_1_AA03_1  CC(C)[C@H](N1CCCNC1=O)C(=O)N[C@H](C[C@H](O)[C@...   \n",
       "...                                                            ...   \n",
       "HRCE-2_27_Z46_4  NC(=O)C1=NN(C=N1)[C@H]1O[C@H](CO)[C@@H](O)[C@H...   \n",
       "HRCE-2_27_Z47_1                                                NaN   \n",
       "HRCE-2_27_Z47_2                                                NaN   \n",
       "HRCE-2_27_Z47_3                                                NaN   \n",
       "HRCE-2_27_Z47_4                                                NaN   \n",
       "\n",
       "                 vero_1_classification  vero_2_classification  \\\n",
       "site_id                                                         \n",
       "VERO-1_1_AA02_1             -14.448197             -11.506718   \n",
       "VERO-1_1_AA02_2             -12.929251             -11.281208   \n",
       "VERO-1_1_AA02_3              -7.876096              -8.489036   \n",
       "VERO-1_1_AA02_4             -11.559427             -11.974244   \n",
       "VERO-1_1_AA03_1             -13.575975             -10.929236   \n",
       "...                                ...                    ...   \n",
       "HRCE-2_27_Z46_4              -4.578231              -1.972752   \n",
       "HRCE-2_27_Z47_1              -4.202336              -3.217505   \n",
       "HRCE-2_27_Z47_2              -4.199234              -1.738602   \n",
       "HRCE-2_27_Z47_3              -4.771723              -4.460397   \n",
       "HRCE-2_27_Z47_4              -4.358535              -1.720528   \n",
       "\n",
       "                 hrce_1_classification  hrce_2_classification  variability  \\\n",
       "site_id                                                                      \n",
       "VERO-1_1_AA02_1             -22.663088              -5.055114     6.572102   \n",
       "VERO-1_1_AA02_2             -30.949903              -7.690392     6.572102   \n",
       "VERO-1_1_AA02_3             -15.961391              -6.287348     6.572102   \n",
       "VERO-1_1_AA02_4             -18.998124              -1.581466     6.572102   \n",
       "VERO-1_1_AA03_1             -18.326597              -4.971525     1.441173   \n",
       "...                                ...                    ...          ...   \n",
       "HRCE-2_27_Z46_4             -13.250463              -9.419783     8.375071   \n",
       "HRCE-2_27_Z47_1             -11.789687              -4.862886     2.823657   \n",
       "HRCE-2_27_Z47_2              -7.472294              -3.742790     2.823657   \n",
       "HRCE-2_27_Z47_3             -13.687189              -6.566447     2.823657   \n",
       "HRCE-2_27_Z47_4              -8.783033              -4.676591     2.823657   \n",
       "\n",
       "                 well_classification_average   x   y  adjusted_score  \n",
       "site_id                                                               \n",
       "VERO-1_1_AA02_1                   -11.703243   2  26        0.814288  \n",
       "VERO-1_1_AA02_2                   -11.703243   2  26        0.814288  \n",
       "VERO-1_1_AA02_3                   -11.703243   2  26        0.814288  \n",
       "VERO-1_1_AA02_4                   -11.703243   2  26        0.814288  \n",
       "VERO-1_1_AA03_1                   -13.652229   3  26       -1.344860  \n",
       "...                                      ...  ..  ..             ...  \n",
       "HRCE-2_27_Z46_4                    -8.566929  46  25        0.114588  \n",
       "HRCE-2_27_Z47_1                    -4.962179  47  25        4.130015  \n",
       "HRCE-2_27_Z47_2                    -4.962179  47  25        4.130015  \n",
       "HRCE-2_27_Z47_3                    -4.962179  47  25        4.130015  \n",
       "HRCE-2_27_Z47_4                    -4.962179  47  25        4.130015  \n",
       "\n",
       "[305520 rows x 19 columns]"
      ]
     },
     "execution_count": 32,
     "metadata": {},
     "output_type": "execute_result"
    }
   ],
   "source": [
    "cmd_polished"
   ]
  },
  {
   "cell_type": "markdown",
   "metadata": {},
   "source": [
    "Graphing these adjusted scores, we see a significant flattening of the medians:"
   ]
  },
  {
   "cell_type": "code",
   "execution_count": 33,
   "metadata": {},
   "outputs": [
    {
     "data": {
      "image/png": "[encoded data removed]",
      "text/plain": [
       "<Figure size 432x288 with 1 Axes>"
      ]
     },
     "metadata": {
      "needs_background": "light"
     },
     "output_type": "display_data"
    },
    {
     "data": {
      "image/png": "[encoded data removed]",
      "text/plain": [
       "<Figure size 432x288 with 1 Axes>"
      ]
     },
     "metadata": {
      "needs_background": "light"
     },
     "output_type": "display_data"
    },
    {
     "data": {
      "image/png": "[encoded data removed]",
      "text/plain": [
       "<Figure size 432x288 with 1 Axes>"
      ]
     },
     "metadata": {
      "needs_background": "light"
     },
     "output_type": "display_data"
    },
    {
     "data": {
      "image/png": "[encoded data removed]",
      "text/plain": [
       "<Figure size 432x288 with 1 Axes>"
      ]
     },
     "metadata": {
      "needs_background": "light"
     },
     "output_type": "display_data"
    },
    {
     "data": {
      "image/png": "[encoded data removed]",
      "text/plain": [
       "<Figure size 432x288 with 1 Axes>"
      ]
     },
     "metadata": {
      "needs_background": "light"
     },
     "output_type": "display_data"
    },
    {
     "data": {
      "image/png": "[encoded data removed]",
      "text/plain": [
       "<Figure size 432x288 with 1 Axes>"
      ]
     },
     "metadata": {
      "needs_background": "light"
     },
     "output_type": "display_data"
    },
    {
     "data": {
      "image/png": "[encoded data removed]",
      "text/plain": [
       "<Figure size 432x288 with 1 Axes>"
      ]
     },
     "metadata": {
      "needs_background": "light"
     },
     "output_type": "display_data"
    },
    {
     "data": {
      "image/png": "[encoded data removed]",
      "text/plain": [
       "<Figure size 432x288 with 1 Axes>"
      ]
     },
     "metadata": {
      "needs_background": "light"
     },
     "output_type": "display_data"
    },
    {
     "data": {
      "text/plain": [
       "<Figure size 432x288 with 0 Axes>"
      ]
     },
     "metadata": {},
     "output_type": "display_data"
    }
   ],
   "source": [
    "vero_1_polished = cmd_polished[cmd_polished.experiment == \"VERO-1\"]\n",
    "vero_2_polished = cmd_polished[cmd_polished.experiment == \"VERO-2\"]\n",
    "hrce_1_polished = cmd_polished[cmd_polished.experiment == \"HRCE-1\"]\n",
    "hrce_2_polished = cmd_polished[cmd_polished.experiment == \"HRCE-2\"] \n",
    "for experiment in [vero_1_polished, vero_2_polished, hrce_1_polished, hrce_2_polished]:\n",
    "    plt.scatter(\n",
    "    experiment.x.unique(),\n",
    "    pd.DataFrame(experiment.x.unique())[0].map(lambda a : experiment[experiment.x == a].adjusted_score.median()))\n",
    "    plt.figure()\n",
    "    plt.scatter(\n",
    "    experiment.y.unique(),\n",
    "    pd.DataFrame(experiment.y.unique())[0].map(lambda a : experiment[experiment.y == a].adjusted_score.median()))\n",
    "    plt.figure()"
   ]
  },
  {
   "cell_type": "markdown",
   "metadata": {},
   "source": [
    "Now we can begin to characterize the efficacy of vaious treatments. To this end, we will group sites by treatment and concentration, before graphing their average scores in VERO and HRCE trials. However, as we would like to be able to compare these treated sites to untreated sites, we will need to provide fake site names--based on plate id--to the untreated sites. Concentrations will likewise be filled in"
   ]
  },
  {
   "cell_type": "code",
   "execution_count": 34,
   "metadata": {},
   "outputs": [],
   "source": [
    "cmd_polished['fake_treatment'] = cmd_polished.treatment"
   ]
  },
  {
   "cell_type": "code",
   "execution_count": 35,
   "metadata": {},
   "outputs": [],
   "source": [
    "cmd_polished.loc[cmd.treatment.isnull(), 'fake_treatment'] = cmd_polished.well_id.map(lambda a: a[4:])[cmd.treatment.isnull()]"
   ]
  },
  {
   "cell_type": "code",
   "execution_count": 36,
   "metadata": {},
   "outputs": [],
   "source": [
    "cmd_polished.loc[cmd.treatment_conc.isnull(), 'treatment_conc'] = cmd_polished.site[cmd.treatment.isnull()]"
   ]
  },
  {
   "cell_type": "markdown",
   "metadata": {},
   "source": [
    "(The first 4 letters are trimmed of to remove cell type names, to allow for latter grouping of fake treatments across cells)"
   ]
  },
  {
   "cell_type": "code",
   "execution_count": 37,
   "metadata": {},
   "outputs": [],
   "source": [
    "cmd_polished['fake_treatment'] = cmd_polished.apply(lambda row : \"healthy\" + row.fake_treatment if row.disease_condition != \"Active SARS-CoV-2\" else row.fake_treatment, axis = 1)\n",
    "#labels healthy controlls as such in their fake treatments, the only part that will be preserved in future steps"
   ]
  },
  {
   "cell_type": "code",
   "execution_count": 38,
   "metadata": {},
   "outputs": [
    {
     "data": {
      "text/html": [
       "<div>\n",
       "<style scoped>\n",
       "    .dataframe tbody tr th:only-of-type {\n",
       "        vertical-align: middle;\n",
       "    }\n",
       "\n",
       "    .dataframe tbody tr th {\n",
       "        vertical-align: top;\n",
       "    }\n",
       "\n",
       "    .dataframe thead th {\n",
       "        text-align: right;\n",
       "    }\n",
       "</style>\n",
       "<table border=\"1\" class=\"dataframe\">\n",
       "  <thead>\n",
       "    <tr style=\"text-align: right;\">\n",
       "      <th></th>\n",
       "      <th>well_id</th>\n",
       "      <th>cell_type</th>\n",
       "      <th>experiment</th>\n",
       "      <th>plate</th>\n",
       "      <th>well</th>\n",
       "      <th>site</th>\n",
       "      <th>disease_condition</th>\n",
       "      <th>treatment</th>\n",
       "      <th>treatment_conc</th>\n",
       "      <th>SMILES</th>\n",
       "      <th>vero_1_classification</th>\n",
       "      <th>vero_2_classification</th>\n",
       "      <th>hrce_1_classification</th>\n",
       "      <th>hrce_2_classification</th>\n",
       "      <th>variability</th>\n",
       "      <th>well_classification_average</th>\n",
       "      <th>x</th>\n",
       "      <th>y</th>\n",
       "      <th>adjusted_score</th>\n",
       "      <th>fake_treatment</th>\n",
       "    </tr>\n",
       "    <tr>\n",
       "      <th>site_id</th>\n",
       "      <th></th>\n",
       "      <th></th>\n",
       "      <th></th>\n",
       "      <th></th>\n",
       "      <th></th>\n",
       "      <th></th>\n",
       "      <th></th>\n",
       "      <th></th>\n",
       "      <th></th>\n",
       "      <th></th>\n",
       "      <th></th>\n",
       "      <th></th>\n",
       "      <th></th>\n",
       "      <th></th>\n",
       "      <th></th>\n",
       "      <th></th>\n",
       "      <th></th>\n",
       "      <th></th>\n",
       "      <th></th>\n",
       "      <th></th>\n",
       "    </tr>\n",
       "  </thead>\n",
       "  <tbody>\n",
       "    <tr>\n",
       "      <th>VERO-1_1_AA02_1</th>\n",
       "      <td>VERO-1_1_AA02</td>\n",
       "      <td>VERO</td>\n",
       "      <td>VERO-1</td>\n",
       "      <td>1</td>\n",
       "      <td>AA02</td>\n",
       "      <td>1</td>\n",
       "      <td>Active SARS-CoV-2</td>\n",
       "      <td>Ribavirin</td>\n",
       "      <td>0.03</td>\n",
       "      <td>NC(=O)C1=NN(C=N1)[C@H]1O[C@H](CO)[C@@H](O)[C@H...</td>\n",
       "      <td>-14.448197</td>\n",
       "      <td>-11.506718</td>\n",
       "      <td>-22.663088</td>\n",
       "      <td>-5.055114</td>\n",
       "      <td>6.572102</td>\n",
       "      <td>-11.703243</td>\n",
       "      <td>2</td>\n",
       "      <td>26</td>\n",
       "      <td>0.814288</td>\n",
       "      <td>Ribavirin</td>\n",
       "    </tr>\n",
       "    <tr>\n",
       "      <th>VERO-1_1_AA02_2</th>\n",
       "      <td>VERO-1_1_AA02</td>\n",
       "      <td>VERO</td>\n",
       "      <td>VERO-1</td>\n",
       "      <td>1</td>\n",
       "      <td>AA02</td>\n",
       "      <td>2</td>\n",
       "      <td>Active SARS-CoV-2</td>\n",
       "      <td>Ribavirin</td>\n",
       "      <td>0.03</td>\n",
       "      <td>NC(=O)C1=NN(C=N1)[C@H]1O[C@H](CO)[C@@H](O)[C@H...</td>\n",
       "      <td>-12.929251</td>\n",
       "      <td>-11.281208</td>\n",
       "      <td>-30.949903</td>\n",
       "      <td>-7.690392</td>\n",
       "      <td>6.572102</td>\n",
       "      <td>-11.703243</td>\n",
       "      <td>2</td>\n",
       "      <td>26</td>\n",
       "      <td>0.814288</td>\n",
       "      <td>Ribavirin</td>\n",
       "    </tr>\n",
       "    <tr>\n",
       "      <th>VERO-1_1_AA02_3</th>\n",
       "      <td>VERO-1_1_AA02</td>\n",
       "      <td>VERO</td>\n",
       "      <td>VERO-1</td>\n",
       "      <td>1</td>\n",
       "      <td>AA02</td>\n",
       "      <td>3</td>\n",
       "      <td>Active SARS-CoV-2</td>\n",
       "      <td>Ribavirin</td>\n",
       "      <td>0.03</td>\n",
       "      <td>NC(=O)C1=NN(C=N1)[C@H]1O[C@H](CO)[C@@H](O)[C@H...</td>\n",
       "      <td>-7.876096</td>\n",
       "      <td>-8.489036</td>\n",
       "      <td>-15.961391</td>\n",
       "      <td>-6.287348</td>\n",
       "      <td>6.572102</td>\n",
       "      <td>-11.703243</td>\n",
       "      <td>2</td>\n",
       "      <td>26</td>\n",
       "      <td>0.814288</td>\n",
       "      <td>Ribavirin</td>\n",
       "    </tr>\n",
       "    <tr>\n",
       "      <th>VERO-1_1_AA02_4</th>\n",
       "      <td>VERO-1_1_AA02</td>\n",
       "      <td>VERO</td>\n",
       "      <td>VERO-1</td>\n",
       "      <td>1</td>\n",
       "      <td>AA02</td>\n",
       "      <td>4</td>\n",
       "      <td>Active SARS-CoV-2</td>\n",
       "      <td>Ribavirin</td>\n",
       "      <td>0.03</td>\n",
       "      <td>NC(=O)C1=NN(C=N1)[C@H]1O[C@H](CO)[C@@H](O)[C@H...</td>\n",
       "      <td>-11.559427</td>\n",
       "      <td>-11.974244</td>\n",
       "      <td>-18.998124</td>\n",
       "      <td>-1.581466</td>\n",
       "      <td>6.572102</td>\n",
       "      <td>-11.703243</td>\n",
       "      <td>2</td>\n",
       "      <td>26</td>\n",
       "      <td>0.814288</td>\n",
       "      <td>Ribavirin</td>\n",
       "    </tr>\n",
       "    <tr>\n",
       "      <th>VERO-1_1_AA03_1</th>\n",
       "      <td>VERO-1_1_AA03</td>\n",
       "      <td>VERO</td>\n",
       "      <td>VERO-1</td>\n",
       "      <td>1</td>\n",
       "      <td>AA03</td>\n",
       "      <td>1</td>\n",
       "      <td>Active SARS-CoV-2</td>\n",
       "      <td>Lopinavir</td>\n",
       "      <td>0.03</td>\n",
       "      <td>CC(C)[C@H](N1CCCNC1=O)C(=O)N[C@H](C[C@H](O)[C@...</td>\n",
       "      <td>-13.575975</td>\n",
       "      <td>-10.929236</td>\n",
       "      <td>-18.326597</td>\n",
       "      <td>-4.971525</td>\n",
       "      <td>1.441173</td>\n",
       "      <td>-13.652229</td>\n",
       "      <td>3</td>\n",
       "      <td>26</td>\n",
       "      <td>-1.344860</td>\n",
       "      <td>Lopinavir</td>\n",
       "    </tr>\n",
       "    <tr>\n",
       "      <th>...</th>\n",
       "      <td>...</td>\n",
       "      <td>...</td>\n",
       "      <td>...</td>\n",
       "      <td>...</td>\n",
       "      <td>...</td>\n",
       "      <td>...</td>\n",
       "      <td>...</td>\n",
       "      <td>...</td>\n",
       "      <td>...</td>\n",
       "      <td>...</td>\n",
       "      <td>...</td>\n",
       "      <td>...</td>\n",
       "      <td>...</td>\n",
       "      <td>...</td>\n",
       "      <td>...</td>\n",
       "      <td>...</td>\n",
       "      <td>...</td>\n",
       "      <td>...</td>\n",
       "      <td>...</td>\n",
       "      <td>...</td>\n",
       "    </tr>\n",
       "    <tr>\n",
       "      <th>HRCE-2_27_Z46_4</th>\n",
       "      <td>HRCE-2_27_Z46</td>\n",
       "      <td>HRCE</td>\n",
       "      <td>HRCE-2</td>\n",
       "      <td>27</td>\n",
       "      <td>Z46</td>\n",
       "      <td>4</td>\n",
       "      <td>Active SARS-CoV-2</td>\n",
       "      <td>Ribavirin</td>\n",
       "      <td>1.00</td>\n",
       "      <td>NC(=O)C1=NN(C=N1)[C@H]1O[C@H](CO)[C@@H](O)[C@H...</td>\n",
       "      <td>-4.578231</td>\n",
       "      <td>-1.972752</td>\n",
       "      <td>-13.250463</td>\n",
       "      <td>-9.419783</td>\n",
       "      <td>8.375071</td>\n",
       "      <td>-8.566929</td>\n",
       "      <td>46</td>\n",
       "      <td>25</td>\n",
       "      <td>0.114588</td>\n",
       "      <td>Ribavirin</td>\n",
       "    </tr>\n",
       "    <tr>\n",
       "      <th>HRCE-2_27_Z47_1</th>\n",
       "      <td>HRCE-2_27_Z47</td>\n",
       "      <td>HRCE</td>\n",
       "      <td>HRCE-2</td>\n",
       "      <td>27</td>\n",
       "      <td>Z47</td>\n",
       "      <td>1</td>\n",
       "      <td>Active SARS-CoV-2</td>\n",
       "      <td>NaN</td>\n",
       "      <td>1.00</td>\n",
       "      <td>NaN</td>\n",
       "      <td>-4.202336</td>\n",
       "      <td>-3.217505</td>\n",
       "      <td>-11.789687</td>\n",
       "      <td>-4.862886</td>\n",
       "      <td>2.823657</td>\n",
       "      <td>-4.962179</td>\n",
       "      <td>47</td>\n",
       "      <td>25</td>\n",
       "      <td>4.130015</td>\n",
       "      <td>-2_27_Z47</td>\n",
       "    </tr>\n",
       "    <tr>\n",
       "      <th>HRCE-2_27_Z47_2</th>\n",
       "      <td>HRCE-2_27_Z47</td>\n",
       "      <td>HRCE</td>\n",
       "      <td>HRCE-2</td>\n",
       "      <td>27</td>\n",
       "      <td>Z47</td>\n",
       "      <td>2</td>\n",
       "      <td>Active SARS-CoV-2</td>\n",
       "      <td>NaN</td>\n",
       "      <td>2.00</td>\n",
       "      <td>NaN</td>\n",
       "      <td>-4.199234</td>\n",
       "      <td>-1.738602</td>\n",
       "      <td>-7.472294</td>\n",
       "      <td>-3.742790</td>\n",
       "      <td>2.823657</td>\n",
       "      <td>-4.962179</td>\n",
       "      <td>47</td>\n",
       "      <td>25</td>\n",
       "      <td>4.130015</td>\n",
       "      <td>-2_27_Z47</td>\n",
       "    </tr>\n",
       "    <tr>\n",
       "      <th>HRCE-2_27_Z47_3</th>\n",
       "      <td>HRCE-2_27_Z47</td>\n",
       "      <td>HRCE</td>\n",
       "      <td>HRCE-2</td>\n",
       "      <td>27</td>\n",
       "      <td>Z47</td>\n",
       "      <td>3</td>\n",
       "      <td>Active SARS-CoV-2</td>\n",
       "      <td>NaN</td>\n",
       "      <td>3.00</td>\n",
       "      <td>NaN</td>\n",
       "      <td>-4.771723</td>\n",
       "      <td>-4.460397</td>\n",
       "      <td>-13.687189</td>\n",
       "      <td>-6.566447</td>\n",
       "      <td>2.823657</td>\n",
       "      <td>-4.962179</td>\n",
       "      <td>47</td>\n",
       "      <td>25</td>\n",
       "      <td>4.130015</td>\n",
       "      <td>-2_27_Z47</td>\n",
       "    </tr>\n",
       "    <tr>\n",
       "      <th>HRCE-2_27_Z47_4</th>\n",
       "      <td>HRCE-2_27_Z47</td>\n",
       "      <td>HRCE</td>\n",
       "      <td>HRCE-2</td>\n",
       "      <td>27</td>\n",
       "      <td>Z47</td>\n",
       "      <td>4</td>\n",
       "      <td>Active SARS-CoV-2</td>\n",
       "      <td>NaN</td>\n",
       "      <td>4.00</td>\n",
       "      <td>NaN</td>\n",
       "      <td>-4.358535</td>\n",
       "      <td>-1.720528</td>\n",
       "      <td>-8.783033</td>\n",
       "      <td>-4.676591</td>\n",
       "      <td>2.823657</td>\n",
       "      <td>-4.962179</td>\n",
       "      <td>47</td>\n",
       "      <td>25</td>\n",
       "      <td>4.130015</td>\n",
       "      <td>-2_27_Z47</td>\n",
       "    </tr>\n",
       "  </tbody>\n",
       "</table>\n",
       "<p>305520 rows × 20 columns</p>\n",
       "</div>"
      ],
      "text/plain": [
       "                       well_id cell_type experiment  plate  well  site  \\\n",
       "site_id                                                                  \n",
       "VERO-1_1_AA02_1  VERO-1_1_AA02      VERO     VERO-1      1  AA02     1   \n",
       "VERO-1_1_AA02_2  VERO-1_1_AA02      VERO     VERO-1      1  AA02     2   \n",
       "VERO-1_1_AA02_3  VERO-1_1_AA02      VERO     VERO-1      1  AA02     3   \n",
       "VERO-1_1_AA02_4  VERO-1_1_AA02      VERO     VERO-1      1  AA02     4   \n",
       "VERO-1_1_AA03_1  VERO-1_1_AA03      VERO     VERO-1      1  AA03     1   \n",
       "...                        ...       ...        ...    ...   ...   ...   \n",
       "HRCE-2_27_Z46_4  HRCE-2_27_Z46      HRCE     HRCE-2     27   Z46     4   \n",
       "HRCE-2_27_Z47_1  HRCE-2_27_Z47      HRCE     HRCE-2     27   Z47     1   \n",
       "HRCE-2_27_Z47_2  HRCE-2_27_Z47      HRCE     HRCE-2     27   Z47     2   \n",
       "HRCE-2_27_Z47_3  HRCE-2_27_Z47      HRCE     HRCE-2     27   Z47     3   \n",
       "HRCE-2_27_Z47_4  HRCE-2_27_Z47      HRCE     HRCE-2     27   Z47     4   \n",
       "\n",
       "                 disease_condition  treatment  treatment_conc  \\\n",
       "site_id                                                         \n",
       "VERO-1_1_AA02_1  Active SARS-CoV-2  Ribavirin            0.03   \n",
       "VERO-1_1_AA02_2  Active SARS-CoV-2  Ribavirin            0.03   \n",
       "VERO-1_1_AA02_3  Active SARS-CoV-2  Ribavirin            0.03   \n",
       "VERO-1_1_AA02_4  Active SARS-CoV-2  Ribavirin            0.03   \n",
       "VERO-1_1_AA03_1  Active SARS-CoV-2  Lopinavir            0.03   \n",
       "...                            ...        ...             ...   \n",
       "HRCE-2_27_Z46_4  Active SARS-CoV-2  Ribavirin            1.00   \n",
       "HRCE-2_27_Z47_1  Active SARS-CoV-2        NaN            1.00   \n",
       "HRCE-2_27_Z47_2  Active SARS-CoV-2        NaN            2.00   \n",
       "HRCE-2_27_Z47_3  Active SARS-CoV-2        NaN            3.00   \n",
       "HRCE-2_27_Z47_4  Active SARS-CoV-2        NaN            4.00   \n",
       "\n",
       "                                                            SMILES  \\\n",
       "site_id                                                              \n",
       "VERO-1_1_AA02_1  NC(=O)C1=NN(C=N1)[C@H]1O[C@H](CO)[C@@H](O)[C@H...   \n",
       "VERO-1_1_AA02_2  NC(=O)C1=NN(C=N1)[C@H]1O[C@H](CO)[C@@H](O)[C@H...   \n",
       "VERO-1_1_AA02_3  NC(=O)C1=NN(C=N1)[C@H]1O[C@H](CO)[C@@H](O)[C@H...   \n",
       "VERO-1_1_AA02_4  NC(=O)C1=NN(C=N1)[C@H]1O[C@H](CO)[C@@H](O)[C@H...   \n",
       "VERO-1_1_AA03_1  CC(C)[C@H](N1CCCNC1=O)C(=O)N[C@H](C[C@H](O)[C@...   \n",
       "...                                                            ...   \n",
       "HRCE-2_27_Z46_4  NC(=O)C1=NN(C=N1)[C@H]1O[C@H](CO)[C@@H](O)[C@H...   \n",
       "HRCE-2_27_Z47_1                                                NaN   \n",
       "HRCE-2_27_Z47_2                                                NaN   \n",
       "HRCE-2_27_Z47_3                                                NaN   \n",
       "HRCE-2_27_Z47_4                                                NaN   \n",
       "\n",
       "                 vero_1_classification  vero_2_classification  \\\n",
       "site_id                                                         \n",
       "VERO-1_1_AA02_1             -14.448197             -11.506718   \n",
       "VERO-1_1_AA02_2             -12.929251             -11.281208   \n",
       "VERO-1_1_AA02_3              -7.876096              -8.489036   \n",
       "VERO-1_1_AA02_4             -11.559427             -11.974244   \n",
       "VERO-1_1_AA03_1             -13.575975             -10.929236   \n",
       "...                                ...                    ...   \n",
       "HRCE-2_27_Z46_4              -4.578231              -1.972752   \n",
       "HRCE-2_27_Z47_1              -4.202336              -3.217505   \n",
       "HRCE-2_27_Z47_2              -4.199234              -1.738602   \n",
       "HRCE-2_27_Z47_3              -4.771723              -4.460397   \n",
       "HRCE-2_27_Z47_4              -4.358535              -1.720528   \n",
       "\n",
       "                 hrce_1_classification  hrce_2_classification  variability  \\\n",
       "site_id                                                                      \n",
       "VERO-1_1_AA02_1             -22.663088              -5.055114     6.572102   \n",
       "VERO-1_1_AA02_2             -30.949903              -7.690392     6.572102   \n",
       "VERO-1_1_AA02_3             -15.961391              -6.287348     6.572102   \n",
       "VERO-1_1_AA02_4             -18.998124              -1.581466     6.572102   \n",
       "VERO-1_1_AA03_1             -18.326597              -4.971525     1.441173   \n",
       "...                                ...                    ...          ...   \n",
       "HRCE-2_27_Z46_4             -13.250463              -9.419783     8.375071   \n",
       "HRCE-2_27_Z47_1             -11.789687              -4.862886     2.823657   \n",
       "HRCE-2_27_Z47_2              -7.472294              -3.742790     2.823657   \n",
       "HRCE-2_27_Z47_3             -13.687189              -6.566447     2.823657   \n",
       "HRCE-2_27_Z47_4              -8.783033              -4.676591     2.823657   \n",
       "\n",
       "                 well_classification_average   x   y  adjusted_score  \\\n",
       "site_id                                                                \n",
       "VERO-1_1_AA02_1                   -11.703243   2  26        0.814288   \n",
       "VERO-1_1_AA02_2                   -11.703243   2  26        0.814288   \n",
       "VERO-1_1_AA02_3                   -11.703243   2  26        0.814288   \n",
       "VERO-1_1_AA02_4                   -11.703243   2  26        0.814288   \n",
       "VERO-1_1_AA03_1                   -13.652229   3  26       -1.344860   \n",
       "...                                      ...  ..  ..             ...   \n",
       "HRCE-2_27_Z46_4                    -8.566929  46  25        0.114588   \n",
       "HRCE-2_27_Z47_1                    -4.962179  47  25        4.130015   \n",
       "HRCE-2_27_Z47_2                    -4.962179  47  25        4.130015   \n",
       "HRCE-2_27_Z47_3                    -4.962179  47  25        4.130015   \n",
       "HRCE-2_27_Z47_4                    -4.962179  47  25        4.130015   \n",
       "\n",
       "                fake_treatment  \n",
       "site_id                         \n",
       "VERO-1_1_AA02_1      Ribavirin  \n",
       "VERO-1_1_AA02_2      Ribavirin  \n",
       "VERO-1_1_AA02_3      Ribavirin  \n",
       "VERO-1_1_AA02_4      Ribavirin  \n",
       "VERO-1_1_AA03_1      Lopinavir  \n",
       "...                        ...  \n",
       "HRCE-2_27_Z46_4      Ribavirin  \n",
       "HRCE-2_27_Z47_1      -2_27_Z47  \n",
       "HRCE-2_27_Z47_2      -2_27_Z47  \n",
       "HRCE-2_27_Z47_3      -2_27_Z47  \n",
       "HRCE-2_27_Z47_4      -2_27_Z47  \n",
       "\n",
       "[305520 rows x 20 columns]"
      ]
     },
     "execution_count": 38,
     "metadata": {},
     "output_type": "execute_result"
    }
   ],
   "source": [
    "cmd_polished"
   ]
  },
  {
   "cell_type": "markdown",
   "metadata": {},
   "source": [
    "Now, to group and graph these treatments"
   ]
  },
  {
   "cell_type": "code",
   "execution_count": 39,
   "metadata": {},
   "outputs": [],
   "source": [
    "df_vero = cmd_polished.query(\"cell_type == 'VERO'\").groupby([\"fake_treatment\", \"treatment_conc\"]).adjusted_score.mean()\n",
    "df_hrce = cmd_polished.query(\"cell_type == 'HRCE'\").groupby([\"fake_treatment\", \"treatment_conc\"]).adjusted_score.mean()\n",
    "df_vero.name = \"vero_score\"\n",
    "df_hrce.name = \"hrce_score\"\n",
    "df_to_scatter = pd.concat([df_hrce, df_vero], axis=1).dropna()"
   ]
  },
  {
   "cell_type": "code",
   "execution_count": 40,
   "metadata": {},
   "outputs": [
    {
     "data": {
      "text/html": [
       "<div>\n",
       "<style scoped>\n",
       "    .dataframe tbody tr th:only-of-type {\n",
       "        vertical-align: middle;\n",
       "    }\n",
       "\n",
       "    .dataframe tbody tr th {\n",
       "        vertical-align: top;\n",
       "    }\n",
       "\n",
       "    .dataframe thead th {\n",
       "        text-align: right;\n",
       "    }\n",
       "</style>\n",
       "<table border=\"1\" class=\"dataframe\">\n",
       "  <thead>\n",
       "    <tr style=\"text-align: right;\">\n",
       "      <th></th>\n",
       "      <th></th>\n",
       "      <th>hrce_score</th>\n",
       "      <th>vero_score</th>\n",
       "    </tr>\n",
       "    <tr>\n",
       "      <th>fake_treatment</th>\n",
       "      <th>treatment_conc</th>\n",
       "      <th></th>\n",
       "      <th></th>\n",
       "    </tr>\n",
       "  </thead>\n",
       "  <tbody>\n",
       "    <tr>\n",
       "      <th rowspan=\"4\" valign=\"top\">-1_1_AB39</th>\n",
       "      <th>1.0</th>\n",
       "      <td>5.743758</td>\n",
       "      <td>0.335497</td>\n",
       "    </tr>\n",
       "    <tr>\n",
       "      <th>2.0</th>\n",
       "      <td>5.743758</td>\n",
       "      <td>0.335497</td>\n",
       "    </tr>\n",
       "    <tr>\n",
       "      <th>3.0</th>\n",
       "      <td>5.743758</td>\n",
       "      <td>0.335497</td>\n",
       "    </tr>\n",
       "    <tr>\n",
       "      <th>4.0</th>\n",
       "      <td>5.743758</td>\n",
       "      <td>0.335497</td>\n",
       "    </tr>\n",
       "    <tr>\n",
       "      <th>-1_1_AD10</th>\n",
       "      <th>1.0</th>\n",
       "      <td>0.367783</td>\n",
       "      <td>0.192933</td>\n",
       "    </tr>\n",
       "    <tr>\n",
       "      <th>...</th>\n",
       "      <th>...</th>\n",
       "      <td>...</td>\n",
       "      <td>...</td>\n",
       "    </tr>\n",
       "    <tr>\n",
       "      <th rowspan=\"5\" valign=\"top\">solithromycin</th>\n",
       "      <th>0.1</th>\n",
       "      <td>-1.647485</td>\n",
       "      <td>-0.109395</td>\n",
       "    </tr>\n",
       "    <tr>\n",
       "      <th>0.3</th>\n",
       "      <td>0.553150</td>\n",
       "      <td>0.528834</td>\n",
       "    </tr>\n",
       "    <tr>\n",
       "      <th>1.0</th>\n",
       "      <td>-0.072885</td>\n",
       "      <td>0.499991</td>\n",
       "    </tr>\n",
       "    <tr>\n",
       "      <th>3.0</th>\n",
       "      <td>0.306512</td>\n",
       "      <td>2.814439</td>\n",
       "    </tr>\n",
       "    <tr>\n",
       "      <th>10.0</th>\n",
       "      <td>0.855642</td>\n",
       "      <td>4.977251</td>\n",
       "    </tr>\n",
       "  </tbody>\n",
       "</table>\n",
       "<p>2192 rows × 2 columns</p>\n",
       "</div>"
      ],
      "text/plain": [
       "                               hrce_score  vero_score\n",
       "fake_treatment treatment_conc                        \n",
       "-1_1_AB39      1.0               5.743758    0.335497\n",
       "               2.0               5.743758    0.335497\n",
       "               3.0               5.743758    0.335497\n",
       "               4.0               5.743758    0.335497\n",
       "-1_1_AD10      1.0               0.367783    0.192933\n",
       "...                                   ...         ...\n",
       "solithromycin  0.1              -1.647485   -0.109395\n",
       "               0.3               0.553150    0.528834\n",
       "               1.0              -0.072885    0.499991\n",
       "               3.0               0.306512    2.814439\n",
       "               10.0              0.855642    4.977251\n",
       "\n",
       "[2192 rows x 2 columns]"
      ]
     },
     "execution_count": 40,
     "metadata": {},
     "output_type": "execute_result"
    }
   ],
   "source": [
    "df_to_scatter"
   ]
  },
  {
   "cell_type": "code",
   "execution_count": 41,
   "metadata": {},
   "outputs": [],
   "source": [
    "df_to_scatter = df_to_scatter.reset_index().reset_index()"
   ]
  },
  {
   "cell_type": "code",
   "execution_count": 42,
   "metadata": {},
   "outputs": [
    {
     "data": {
      "text/html": [
       "<div>\n",
       "<style scoped>\n",
       "    .dataframe tbody tr th:only-of-type {\n",
       "        vertical-align: middle;\n",
       "    }\n",
       "\n",
       "    .dataframe tbody tr th {\n",
       "        vertical-align: top;\n",
       "    }\n",
       "\n",
       "    .dataframe thead th {\n",
       "        text-align: right;\n",
       "    }\n",
       "</style>\n",
       "<table border=\"1\" class=\"dataframe\">\n",
       "  <thead>\n",
       "    <tr style=\"text-align: right;\">\n",
       "      <th></th>\n",
       "      <th>index</th>\n",
       "      <th>fake_treatment</th>\n",
       "      <th>treatment_conc</th>\n",
       "      <th>hrce_score</th>\n",
       "      <th>vero_score</th>\n",
       "    </tr>\n",
       "  </thead>\n",
       "  <tbody>\n",
       "    <tr>\n",
       "      <th>0</th>\n",
       "      <td>0</td>\n",
       "      <td>-1_1_AB39</td>\n",
       "      <td>1.0</td>\n",
       "      <td>5.743758</td>\n",
       "      <td>0.335497</td>\n",
       "    </tr>\n",
       "    <tr>\n",
       "      <th>1</th>\n",
       "      <td>1</td>\n",
       "      <td>-1_1_AB39</td>\n",
       "      <td>2.0</td>\n",
       "      <td>5.743758</td>\n",
       "      <td>0.335497</td>\n",
       "    </tr>\n",
       "    <tr>\n",
       "      <th>2</th>\n",
       "      <td>2</td>\n",
       "      <td>-1_1_AB39</td>\n",
       "      <td>3.0</td>\n",
       "      <td>5.743758</td>\n",
       "      <td>0.335497</td>\n",
       "    </tr>\n",
       "    <tr>\n",
       "      <th>3</th>\n",
       "      <td>3</td>\n",
       "      <td>-1_1_AB39</td>\n",
       "      <td>4.0</td>\n",
       "      <td>5.743758</td>\n",
       "      <td>0.335497</td>\n",
       "    </tr>\n",
       "    <tr>\n",
       "      <th>4</th>\n",
       "      <td>4</td>\n",
       "      <td>-1_1_AD10</td>\n",
       "      <td>1.0</td>\n",
       "      <td>0.367783</td>\n",
       "      <td>0.192933</td>\n",
       "    </tr>\n",
       "    <tr>\n",
       "      <th>...</th>\n",
       "      <td>...</td>\n",
       "      <td>...</td>\n",
       "      <td>...</td>\n",
       "      <td>...</td>\n",
       "      <td>...</td>\n",
       "    </tr>\n",
       "    <tr>\n",
       "      <th>2187</th>\n",
       "      <td>2187</td>\n",
       "      <td>solithromycin</td>\n",
       "      <td>0.1</td>\n",
       "      <td>-1.647485</td>\n",
       "      <td>-0.109395</td>\n",
       "    </tr>\n",
       "    <tr>\n",
       "      <th>2188</th>\n",
       "      <td>2188</td>\n",
       "      <td>solithromycin</td>\n",
       "      <td>0.3</td>\n",
       "      <td>0.553150</td>\n",
       "      <td>0.528834</td>\n",
       "    </tr>\n",
       "    <tr>\n",
       "      <th>2189</th>\n",
       "      <td>2189</td>\n",
       "      <td>solithromycin</td>\n",
       "      <td>1.0</td>\n",
       "      <td>-0.072885</td>\n",
       "      <td>0.499991</td>\n",
       "    </tr>\n",
       "    <tr>\n",
       "      <th>2190</th>\n",
       "      <td>2190</td>\n",
       "      <td>solithromycin</td>\n",
       "      <td>3.0</td>\n",
       "      <td>0.306512</td>\n",
       "      <td>2.814439</td>\n",
       "    </tr>\n",
       "    <tr>\n",
       "      <th>2191</th>\n",
       "      <td>2191</td>\n",
       "      <td>solithromycin</td>\n",
       "      <td>10.0</td>\n",
       "      <td>0.855642</td>\n",
       "      <td>4.977251</td>\n",
       "    </tr>\n",
       "  </tbody>\n",
       "</table>\n",
       "<p>2192 rows × 5 columns</p>\n",
       "</div>"
      ],
      "text/plain": [
       "      index fake_treatment  treatment_conc  hrce_score  vero_score\n",
       "0         0      -1_1_AB39             1.0    5.743758    0.335497\n",
       "1         1      -1_1_AB39             2.0    5.743758    0.335497\n",
       "2         2      -1_1_AB39             3.0    5.743758    0.335497\n",
       "3         3      -1_1_AB39             4.0    5.743758    0.335497\n",
       "4         4      -1_1_AD10             1.0    0.367783    0.192933\n",
       "...     ...            ...             ...         ...         ...\n",
       "2187   2187  solithromycin             0.1   -1.647485   -0.109395\n",
       "2188   2188  solithromycin             0.3    0.553150    0.528834\n",
       "2189   2189  solithromycin             1.0   -0.072885    0.499991\n",
       "2190   2190  solithromycin             3.0    0.306512    2.814439\n",
       "2191   2191  solithromycin            10.0    0.855642    4.977251\n",
       "\n",
       "[2192 rows x 5 columns]"
      ]
     },
     "execution_count": 42,
     "metadata": {},
     "output_type": "execute_result"
    }
   ],
   "source": [
    "df_to_scatter"
   ]
  },
  {
   "cell_type": "code",
   "execution_count": 43,
   "metadata": {},
   "outputs": [
    {
     "data": {
      "text/plain": [
       "<matplotlib.colorbar.Colorbar at 0x189ce6ca820>"
      ]
     },
     "execution_count": 43,
     "metadata": {},
     "output_type": "execute_result"
    },
    {
     "data": {
      "image/png": "[encoded data removed]",
      "text/plain": [
       "<Figure size 432x288 with 2 Axes>"
      ]
     },
     "metadata": {
      "needs_background": "light"
     },
     "output_type": "display_data"
    }
   ],
   "source": [
    "plt.colorbar(plt.scatter(\n",
    "df_to_scatter.hrce_score,\n",
    "df_to_scatter.vero_score,\n",
    "c = df_to_scatter.fake_treatment.map(lambda a : 2 if a[0] == \"-\" #untreated infected\n",
    "                                     else 1 if a[:7] == \"healthy\" #healthy controll\n",
    "                                     else 0))) #treated infected"
   ]
  },
  {
   "cell_type": "markdown",
   "metadata": {},
   "source": [
    "As a result of their arrangement in rows, note that the healthy controlls now appear infected after polishing. However, this should not pose an issue for the rest of our data, as only those rows were distorted. From this plot, we may conclude that compounds with dosages with adjusted HRCE scores above 7 or adjusted vero scores above 5 may have some efficacy. These may be extracted as follows:"
   ]
  },
  {
   "cell_type": "code",
   "execution_count": 44,
   "metadata": {},
   "outputs": [],
   "source": [
    "df_vero = df_vero.reset_index().reset_index()\n",
    "df_hrce = df_hrce.reset_index().reset_index()"
   ]
  },
  {
   "cell_type": "code",
   "execution_count": 45,
   "metadata": {},
   "outputs": [],
   "source": [
    "vero_candidates = df_vero[df_vero.vero_score > 5].fake_treatment.unique()\n",
    "hrce_candidates = df_hrce[df_hrce.hrce_score > 7]\n",
    "hrce_candidates = hrce_candidates[hrce_candidates.fake_treatment.map(lambda a: a[0] != '-' and a[:7] != 'healthy')] #trims a few stray controls that were not on the rows on the HRCE plates\n",
    "hrce_candidates = hrce_candidates.fake_treatment.unique()"
   ]
  },
  {
   "cell_type": "code",
   "execution_count": 46,
   "metadata": {},
   "outputs": [
    {
     "data": {
      "text/plain": [
       "array(['Arbidol', 'Chloroquine', 'GS-441524',\n",
       "       'Hydroxychloroquine Sulfate', 'Lopinavir', 'Pacritinib', 'Quinine',\n",
       "       'Remdesivir (GS-5734)', 'Thymoquinone'], dtype=object)"
      ]
     },
     "execution_count": 46,
     "metadata": {},
     "output_type": "execute_result"
    }
   ],
   "source": [
    "vero_candidates"
   ]
  },
  {
   "cell_type": "code",
   "execution_count": 47,
   "metadata": {},
   "outputs": [
    {
     "data": {
      "text/plain": [
       "array(['6-Thioguanine', '7-Ethyl-10-hydroxycamptothecin', 'Albendazole',\n",
       "       'Aloxistatin', 'Brilliant Green cation', 'Carfilzomib',\n",
       "       'Cetrimonium', 'Cetylpyridinium', 'Cinnarizine', 'Dasatinib',\n",
       "       'Diiodohydroxyquinoline', 'Duvelisib', 'Epirubicin',\n",
       "       'Flubendazole', 'GS-441524', 'Gemcitabine hydrochloride',\n",
       "       'Halofuginone', 'Ingenol-3-angelate', 'KPT-276', 'KPT-330',\n",
       "       'Midostaurin', 'Nilotinib', 'Nisoldipine', 'PCI-24781',\n",
       "       'Pacritinib', 'Podophyllotoxin', 'Quercetin', 'Rapamycin',\n",
       "       'Remdesivir (GS-5734)', 'Simeprevir', 'Sorafenib', 'Temsirolimus',\n",
       "       'Triclocarban', 'Venetoclax', 'Vincristine', 'YK-4-279',\n",
       "       'almitrine', 'belotecan', 'budipine', 'calcifediol', 'clofazimine',\n",
       "       'cyclovalone', 'digitoxin', 'digoxin', 'eltrombopag', 'epirubicin',\n",
       "       'everolimus', 'harringtonine', 'homoharringtonine', 'narasin',\n",
       "       'paricalcitol', 'proscillaridin-a', 'romidepsin', 'silmitasertib',\n",
       "       'vinblastine'], dtype=object)"
      ]
     },
     "execution_count": 47,
     "metadata": {},
     "output_type": "execute_result"
    }
   ],
   "source": [
    "hrce_candidates"
   ]
  },
  {
   "cell_type": "code",
   "execution_count": null,
   "metadata": {},
   "outputs": [],
   "source": []
  }
 ],
 "metadata": {
  "kernelspec": {
   "display_name": "Python 3",
   "language": "python",
   "name": "python3"
  },
  "language_info": {
   "codemirror_mode": {
    "name": "ipython",
    "version": 3
   },
   "file_extension": ".py",
   "mimetype": "text/x-python",
   "name": "python",
   "nbconvert_exporter": "python",
   "pygments_lexer": "ipython3",
   "version": "3.8.5"
  }
 },
 "nbformat": 4,
 "nbformat_minor": 4
}
